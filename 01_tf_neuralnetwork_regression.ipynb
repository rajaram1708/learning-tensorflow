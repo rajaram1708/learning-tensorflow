{
  "nbformat": 4,
  "nbformat_minor": 0,
  "metadata": {
    "colab": {
      "name": "01_tf_neuralnetwork_regression.ipynb",
      "provenance": [],
      "collapsed_sections": []
    },
    "kernelspec": {
      "name": "python3",
      "display_name": "Python 3"
    },
    "language_info": {
      "name": "python"
    }
  },
  "cells": [
    {
      "cell_type": "code",
      "metadata": {
        "colab": {
          "base_uri": "https://localhost:8080/"
        },
        "id": "_dT1VTkGRvMq",
        "outputId": "9d6ccec7-fdce-407a-d23a-28e669ddb27d"
      },
      "source": [
        "import tensorflow as tf\n",
        "print(tf.__version__)"
      ],
      "execution_count": null,
      "outputs": [
        {
          "output_type": "stream",
          "text": [
            "2.5.0\n"
          ],
          "name": "stdout"
        }
      ]
    },
    {
      "cell_type": "code",
      "metadata": {
        "id": "I9qhwm_RT13C"
      },
      "source": [
        "import numpy as np\n",
        "import matplotlib.pyplot as plt\n"
      ],
      "execution_count": null,
      "outputs": []
    },
    {
      "cell_type": "code",
      "metadata": {
        "id": "p1t7dEaAU28a"
      },
      "source": [
        "#create features\n",
        "X = np.array([-7.0, -4.0, -1.0, 2.0, 5.0, 8.0, 11.0, 14.0])\n",
        "\n",
        "#create labels\n",
        "y = np.array([3.0, 6.0, 9.0, 12.0, 15.0, 18.0, 21.0, 24.0])\n"
      ],
      "execution_count": null,
      "outputs": []
    },
    {
      "cell_type": "code",
      "metadata": {
        "colab": {
          "base_uri": "https://localhost:8080/",
          "height": 287
        },
        "id": "mzlVsr9rVaj0",
        "outputId": "f9e89382-9ca4-4d2c-a479-8bb37ac904a3"
      },
      "source": [
        "#visualize data\n",
        "plt.scatter(X, y)"
      ],
      "execution_count": null,
      "outputs": [
        {
          "output_type": "execute_result",
          "data": {
            "text/plain": [
              "<matplotlib.collections.PathCollection at 0x7faab7ffba50>"
            ]
          },
          "metadata": {
            "tags": []
          },
          "execution_count": 6
        },
        {
          "output_type": "display_data",
          "data": {
            "image/png": "[encoded data removed]",
            "text/plain": [
              "<Figure size 432x288 with 1 Axes>"
            ]
          },
          "metadata": {
            "tags": [],
            "needs_background": "light"
          }
        }
      ]
    },
    {
      "cell_type": "markdown",
      "metadata": {
        "id": "2LQXRye5vqzI"
      },
      "source": [
        "Input and Output Shapes"
      ]
    },
    {
      "cell_type": "code",
      "metadata": {
        "colab": {
          "base_uri": "https://localhost:8080/"
        },
        "id": "o6vLxSfQVo6p",
        "outputId": "cac3cfba-220e-4d0d-8fb8-3580454c9666"
      },
      "source": [
        "#demo tensor\n",
        "house_info = tf.constant([\"bedroom\", \"bathroom\", \"garage\"])\n",
        "house_price = tf.constant([939700])\n",
        "house_info, house_price"
      ],
      "execution_count": null,
      "outputs": [
        {
          "output_type": "execute_result",
          "data": {
            "text/plain": [
              "(<tf.Tensor: shape=(3,), dtype=string, numpy=array([b'bedroom', b'bathroom', b'garage'], dtype=object)>,\n",
              " <tf.Tensor: shape=(1,), dtype=int32, numpy=array([939700], dtype=int32)>)"
            ]
          },
          "metadata": {
            "tags": []
          },
          "execution_count": 7
        }
      ]
    },
    {
      "cell_type": "code",
      "metadata": {
        "colab": {
          "base_uri": "https://localhost:8080/"
        },
        "id": "oLskyFWLW3TG",
        "outputId": "791f79dd-43c5-45a1-965d-138f007c882e"
      },
      "source": [
        "#turn numpy arrays into tensor\n",
        "X = tf.cast(tf.constant(X), dtype=tf.float32)\n",
        "y = tf.cast(tf.constant(y), dtype=tf.float32)\n",
        "X, y "
      ],
      "execution_count": null,
      "outputs": [
        {
          "output_type": "execute_result",
          "data": {
            "text/plain": [
              "(<tf.Tensor: shape=(8,), dtype=float32, numpy=array([-7., -4., -1.,  2.,  5.,  8., 11., 14.], dtype=float32)>,\n",
              " <tf.Tensor: shape=(8,), dtype=float32, numpy=array([ 3.,  6.,  9., 12., 15., 18., 21., 24.], dtype=float32)>)"
            ]
          },
          "metadata": {
            "tags": []
          },
          "execution_count": 8
        }
      ]
    },
    {
      "cell_type": "code",
      "metadata": {
        "colab": {
          "base_uri": "https://localhost:8080/"
        },
        "id": "YJXuEF3XzHd5",
        "outputId": "93fbe724-c6b7-498f-ed51-b65e40e6d73d"
      },
      "source": [
        "input_shape = X[0].shape\n",
        "output_shape = y[0].shape\n",
        "input_shape, output_shape"
      ],
      "execution_count": null,
      "outputs": [
        {
          "output_type": "execute_result",
          "data": {
            "text/plain": [
              "(TensorShape([]), TensorShape([]))"
            ]
          },
          "metadata": {
            "tags": []
          },
          "execution_count": 9
        }
      ]
    },
    {
      "cell_type": "code",
      "metadata": {
        "colab": {
          "base_uri": "https://localhost:8080/",
          "height": 287
        },
        "id": "hOttATgYzX-v",
        "outputId": "d686273e-7a78-4be7-8a93-7eb2ec26b3a0"
      },
      "source": [
        "plt.scatter(X, y)"
      ],
      "execution_count": null,
      "outputs": [
        {
          "output_type": "execute_result",
          "data": {
            "text/plain": [
              "<matplotlib.collections.PathCollection at 0x7faab7f6d090>"
            ]
          },
          "metadata": {
            "tags": []
          },
          "execution_count": 10
        },
        {
          "output_type": "display_data",
          "data": {
            "image/png": "[encoded data removed]",
            "text/plain": [
              "<Figure size 432x288 with 1 Axes>"
            ]
          },
          "metadata": {
            "tags": [],
            "needs_background": "light"
          }
        }
      ]
    },
    {
      "cell_type": "code",
      "metadata": {
        "id": "flx3NleEzcpy"
      },
      "source": [
        "# set random seed\n",
        "tf.random.set_seed(100)\n"
      ],
      "execution_count": null,
      "outputs": []
    },
    {
      "cell_type": "code",
      "metadata": {
        "id": "Ze62LuOP8RWG"
      },
      "source": [
        "#create model\n",
        "tf_model = tf.keras.Sequential()\n",
        "tf_model.add(tf.keras.layers.Dense(1))\n"
      ],
      "execution_count": null,
      "outputs": []
    },
    {
      "cell_type": "code",
      "metadata": {
        "id": "HsTtOqEB8OOB"
      },
      "source": [
        "#compile the model\n",
        "tf_model.compile(loss=tf.keras.losses.mae,\n",
        "                 optimizer=tf.keras.optimizers.SGD(), \n",
        "                 metrics=[\"mae\"])"
      ],
      "execution_count": null,
      "outputs": []
    },
    {
      "cell_type": "code",
      "metadata": {
        "colab": {
          "base_uri": "https://localhost:8080/"
        },
        "id": "FCoEsOAH80hR",
        "outputId": "eeebc11d-f15b-4b0c-e574-41fd56094b67"
      },
      "source": [
        "#fit the model\n",
        "tf_model.fit(X, y, epochs=5)"
      ],
      "execution_count": null,
      "outputs": [
        {
          "output_type": "stream",
          "text": [
            "Epoch 1/5\n",
            "1/1 [==============================] - 1s 626ms/step - loss: 17.3148 - mae: 17.3148\n",
            "Epoch 2/5\n",
            "1/1 [==============================] - 0s 8ms/step - loss: 17.0336 - mae: 17.0336\n",
            "Epoch 3/5\n",
            "1/1 [==============================] - 0s 7ms/step - loss: 16.7523 - mae: 16.7523\n",
            "Epoch 4/5\n",
            "1/1 [==============================] - 0s 5ms/step - loss: 16.4711 - mae: 16.4711\n",
            "Epoch 5/5\n",
            "1/1 [==============================] - 0s 10ms/step - loss: 16.1898 - mae: 16.1898\n"
          ],
          "name": "stdout"
        },
        {
          "output_type": "execute_result",
          "data": {
            "text/plain": [
              "<tensorflow.python.keras.callbacks.History at 0x7faab49d8090>"
            ]
          },
          "metadata": {
            "tags": []
          },
          "execution_count": 14
        }
      ]
    },
    {
      "cell_type": "code",
      "metadata": {
        "colab": {
          "base_uri": "https://localhost:8080/"
        },
        "id": "sDXTL4N68-9d",
        "outputId": "7b04f8fb-584d-486f-e90c-8d7928df7631"
      },
      "source": [
        "#try prediction using the model\n",
        "y_pred = tf_model.predict([17.0])\n",
        "y_pred"
      ],
      "execution_count": null,
      "outputs": [
        {
          "output_type": "execute_result",
          "data": {
            "text/plain": [
              "array([[-10.281288]], dtype=float32)"
            ]
          },
          "metadata": {
            "tags": []
          },
          "execution_count": 15
        }
      ]
    },
    {
      "cell_type": "code",
      "metadata": {
        "id": "FCyhz0Gc8_Rk"
      },
      "source": [
        "#improving the model (add more layers in creation, change optimizers, loss and lr rate in compuling, increase epochs in fit)\n",
        "\n",
        "#create model\n",
        "tf_model = tf.keras.Sequential()\n",
        "tf_model.add(tf.keras.layers.Dense(100, activation=None))\n",
        "#tf_model.add(tf.keras.layers.Dense(100))\n",
        "#tf_model.add(tf.keras.layers.Dense(100))\n",
        "tf_model.add(tf.keras.layers.Dense(1))\n"
      ],
      "execution_count": null,
      "outputs": []
    },
    {
      "cell_type": "code",
      "metadata": {
        "id": "pf9NHt1OAudh"
      },
      "source": [
        "#compile model\n",
        "tf_model.compile(loss=tf.keras.losses.mae,\n",
        "                 optimizer=tf.keras.optimizers.Adam(learning_rate=0.01),\n",
        "                 metrics=[\"mae\"])\n",
        "\n"
      ],
      "execution_count": null,
      "outputs": []
    },
    {
      "cell_type": "code",
      "metadata": {
        "colab": {
          "base_uri": "https://localhost:8080/"
        },
        "id": "ieD8BbgKAu3q",
        "outputId": "390868f3-8c20-49fa-e2c1-f3cdf2c1eae5"
      },
      "source": [
        "#fit model\n",
        "tf_model.fit(X, y, epochs=100)"
      ],
      "execution_count": null,
      "outputs": [
        {
          "output_type": "stream",
          "text": [
            "Epoch 1/100\n",
            "1/1 [==============================] - 0s 417ms/step - loss: 13.1425 - mae: 13.1425\n",
            "Epoch 2/100\n",
            "1/1 [==============================] - 0s 13ms/step - loss: 12.2097 - mae: 12.2097\n",
            "Epoch 3/100\n",
            "1/1 [==============================] - 0s 4ms/step - loss: 11.2771 - mae: 11.2771\n",
            "Epoch 4/100\n",
            "1/1 [==============================] - 0s 4ms/step - loss: 10.3387 - mae: 10.3387\n",
            "Epoch 5/100\n",
            "1/1 [==============================] - 0s 6ms/step - loss: 9.3855 - mae: 9.3855\n",
            "Epoch 6/100\n",
            "1/1 [==============================] - 0s 8ms/step - loss: 8.4095 - mae: 8.4095\n",
            "Epoch 7/100\n",
            "1/1 [==============================] - 0s 6ms/step - loss: 7.4031 - mae: 7.4031\n",
            "Epoch 8/100\n",
            "1/1 [==============================] - 0s 9ms/step - loss: 6.8190 - mae: 6.8190\n",
            "Epoch 9/100\n",
            "1/1 [==============================] - 0s 5ms/step - loss: 7.2571 - mae: 7.2571\n",
            "Epoch 10/100\n",
            "1/1 [==============================] - 0s 7ms/step - loss: 7.7517 - mae: 7.7517\n",
            "Epoch 11/100\n",
            "1/1 [==============================] - 0s 6ms/step - loss: 7.9644 - mae: 7.9644\n",
            "Epoch 12/100\n",
            "1/1 [==============================] - 0s 6ms/step - loss: 7.8471 - mae: 7.8471\n",
            "Epoch 13/100\n",
            "1/1 [==============================] - 0s 7ms/step - loss: 7.4999 - mae: 7.4999\n",
            "Epoch 14/100\n",
            "1/1 [==============================] - 0s 6ms/step - loss: 7.0302 - mae: 7.0302\n",
            "Epoch 15/100\n",
            "1/1 [==============================] - 0s 11ms/step - loss: 6.6844 - mae: 6.6844\n",
            "Epoch 16/100\n",
            "1/1 [==============================] - 0s 5ms/step - loss: 6.3210 - mae: 6.3210\n",
            "Epoch 17/100\n",
            "1/1 [==============================] - 0s 4ms/step - loss: 6.1580 - mae: 6.1580\n",
            "Epoch 18/100\n",
            "1/1 [==============================] - 0s 4ms/step - loss: 6.1828 - mae: 6.1828\n",
            "Epoch 19/100\n",
            "1/1 [==============================] - 0s 5ms/step - loss: 6.3167 - mae: 6.3167\n",
            "Epoch 20/100\n",
            "1/1 [==============================] - 0s 10ms/step - loss: 6.3012 - mae: 6.3012\n",
            "Epoch 21/100\n",
            "1/1 [==============================] - 0s 7ms/step - loss: 6.1578 - mae: 6.1578\n",
            "Epoch 22/100\n",
            "1/1 [==============================] - 0s 10ms/step - loss: 5.9014 - mae: 5.9014\n",
            "Epoch 23/100\n",
            "1/1 [==============================] - 0s 5ms/step - loss: 5.6048 - mae: 5.6048\n",
            "Epoch 24/100\n",
            "1/1 [==============================] - 0s 8ms/step - loss: 5.4668 - mae: 5.4668\n",
            "Epoch 25/100\n",
            "1/1 [==============================] - 0s 5ms/step - loss: 5.3399 - mae: 5.3399\n",
            "Epoch 26/100\n",
            "1/1 [==============================] - 0s 7ms/step - loss: 5.3195 - mae: 5.3195\n",
            "Epoch 27/100\n",
            "1/1 [==============================] - 0s 7ms/step - loss: 5.2437 - mae: 5.2437\n",
            "Epoch 28/100\n",
            "1/1 [==============================] - 0s 6ms/step - loss: 5.1168 - mae: 5.1168\n",
            "Epoch 29/100\n",
            "1/1 [==============================] - 0s 8ms/step - loss: 4.9429 - mae: 4.9429\n",
            "Epoch 30/100\n",
            "1/1 [==============================] - 0s 7ms/step - loss: 4.7258 - mae: 4.7258\n",
            "Epoch 31/100\n",
            "1/1 [==============================] - 0s 7ms/step - loss: 4.5768 - mae: 4.5768\n",
            "Epoch 32/100\n",
            "1/1 [==============================] - 0s 7ms/step - loss: 4.4505 - mae: 4.4505\n",
            "Epoch 33/100\n",
            "1/1 [==============================] - 0s 7ms/step - loss: 4.3248 - mae: 4.3248\n",
            "Epoch 34/100\n",
            "1/1 [==============================] - 0s 10ms/step - loss: 4.1521 - mae: 4.1521\n",
            "Epoch 35/100\n",
            "1/1 [==============================] - 0s 9ms/step - loss: 3.9473 - mae: 3.9473\n",
            "Epoch 36/100\n",
            "1/1 [==============================] - 0s 6ms/step - loss: 3.7390 - mae: 3.7390\n",
            "Epoch 37/100\n",
            "1/1 [==============================] - 0s 8ms/step - loss: 3.5851 - mae: 3.5851\n",
            "Epoch 38/100\n",
            "1/1 [==============================] - 0s 9ms/step - loss: 3.4254 - mae: 3.4254\n",
            "Epoch 39/100\n",
            "1/1 [==============================] - 0s 6ms/step - loss: 3.1984 - mae: 3.1984\n",
            "Epoch 40/100\n",
            "1/1 [==============================] - 0s 6ms/step - loss: 2.9058 - mae: 2.9058\n",
            "Epoch 41/100\n",
            "1/1 [==============================] - 0s 6ms/step - loss: 2.6522 - mae: 2.6522\n",
            "Epoch 42/100\n",
            "1/1 [==============================] - 0s 9ms/step - loss: 2.4746 - mae: 2.4746\n",
            "Epoch 43/100\n",
            "1/1 [==============================] - 0s 9ms/step - loss: 2.1921 - mae: 2.1921\n",
            "Epoch 44/100\n",
            "1/1 [==============================] - 0s 10ms/step - loss: 1.8321 - mae: 1.8321\n",
            "Epoch 45/100\n",
            "1/1 [==============================] - 0s 6ms/step - loss: 1.6369 - mae: 1.6369\n",
            "Epoch 46/100\n",
            "1/1 [==============================] - 0s 8ms/step - loss: 1.4239 - mae: 1.4239\n",
            "Epoch 47/100\n",
            "1/1 [==============================] - 0s 6ms/step - loss: 0.9862 - mae: 0.9862\n",
            "Epoch 48/100\n",
            "1/1 [==============================] - 0s 7ms/step - loss: 0.6634 - mae: 0.6634\n",
            "Epoch 49/100\n",
            "1/1 [==============================] - 0s 11ms/step - loss: 0.4358 - mae: 0.4358\n",
            "Epoch 50/100\n",
            "1/1 [==============================] - 0s 10ms/step - loss: 0.3156 - mae: 0.3156\n",
            "Epoch 51/100\n",
            "1/1 [==============================] - 0s 7ms/step - loss: 0.7405 - mae: 0.7405\n",
            "Epoch 52/100\n",
            "1/1 [==============================] - 0s 11ms/step - loss: 1.1016 - mae: 1.1016\n",
            "Epoch 53/100\n",
            "1/1 [==============================] - 0s 10ms/step - loss: 1.1460 - mae: 1.1460\n",
            "Epoch 54/100\n",
            "1/1 [==============================] - 0s 11ms/step - loss: 0.9250 - mae: 0.9250\n",
            "Epoch 55/100\n",
            "1/1 [==============================] - 0s 10ms/step - loss: 1.0769 - mae: 1.0769\n",
            "Epoch 56/100\n",
            "1/1 [==============================] - 0s 9ms/step - loss: 1.0816 - mae: 1.0816\n",
            "Epoch 57/100\n",
            "1/1 [==============================] - 0s 9ms/step - loss: 0.8478 - mae: 0.8478\n",
            "Epoch 58/100\n",
            "1/1 [==============================] - 0s 9ms/step - loss: 0.8199 - mae: 0.8199\n",
            "Epoch 59/100\n",
            "1/1 [==============================] - 0s 10ms/step - loss: 0.7122 - mae: 0.7122\n",
            "Epoch 60/100\n",
            "1/1 [==============================] - 0s 11ms/step - loss: 0.3759 - mae: 0.3759\n",
            "Epoch 61/100\n",
            "1/1 [==============================] - 0s 8ms/step - loss: 0.4975 - mae: 0.4975\n",
            "Epoch 62/100\n",
            "1/1 [==============================] - 0s 8ms/step - loss: 0.4571 - mae: 0.4571\n",
            "Epoch 63/100\n",
            "1/1 [==============================] - 0s 5ms/step - loss: 0.2691 - mae: 0.2691\n",
            "Epoch 64/100\n",
            "1/1 [==============================] - 0s 5ms/step - loss: 0.6770 - mae: 0.6770\n",
            "Epoch 65/100\n",
            "1/1 [==============================] - 0s 5ms/step - loss: 0.8813 - mae: 0.8813\n",
            "Epoch 66/100\n",
            "1/1 [==============================] - 0s 6ms/step - loss: 0.7484 - mae: 0.7484\n",
            "Epoch 67/100\n",
            "1/1 [==============================] - 0s 27ms/step - loss: 0.4841 - mae: 0.4841\n",
            "Epoch 68/100\n",
            "1/1 [==============================] - 0s 8ms/step - loss: 0.6910 - mae: 0.6910\n",
            "Epoch 69/100\n",
            "1/1 [==============================] - 0s 7ms/step - loss: 0.7105 - mae: 0.7105\n",
            "Epoch 70/100\n",
            "1/1 [==============================] - 0s 14ms/step - loss: 0.5352 - mae: 0.5352\n",
            "Epoch 71/100\n",
            "1/1 [==============================] - 0s 13ms/step - loss: 0.1883 - mae: 0.1883\n",
            "Epoch 72/100\n",
            "1/1 [==============================] - 0s 8ms/step - loss: 0.3816 - mae: 0.3816\n",
            "Epoch 73/100\n",
            "1/1 [==============================] - 0s 10ms/step - loss: 0.3389 - mae: 0.3389\n",
            "Epoch 74/100\n",
            "1/1 [==============================] - 0s 7ms/step - loss: 0.2409 - mae: 0.2409\n",
            "Epoch 75/100\n",
            "1/1 [==============================] - 0s 6ms/step - loss: 0.4248 - mae: 0.4248\n",
            "Epoch 76/100\n",
            "1/1 [==============================] - 0s 9ms/step - loss: 0.4007 - mae: 0.4007\n",
            "Epoch 77/100\n",
            "1/1 [==============================] - 0s 9ms/step - loss: 0.3646 - mae: 0.3646\n",
            "Epoch 78/100\n",
            "1/1 [==============================] - 0s 9ms/step - loss: 0.3265 - mae: 0.3265\n",
            "Epoch 79/100\n",
            "1/1 [==============================] - 0s 7ms/step - loss: 0.1838 - mae: 0.1838\n",
            "Epoch 80/100\n",
            "1/1 [==============================] - 0s 7ms/step - loss: 0.0573 - mae: 0.0573\n",
            "Epoch 81/100\n",
            "1/1 [==============================] - 0s 6ms/step - loss: 0.3428 - mae: 0.3428\n",
            "Epoch 82/100\n",
            "1/1 [==============================] - 0s 10ms/step - loss: 0.3664 - mae: 0.3664\n",
            "Epoch 83/100\n",
            "1/1 [==============================] - 0s 9ms/step - loss: 0.3043 - mae: 0.3043\n",
            "Epoch 84/100\n",
            "1/1 [==============================] - 0s 10ms/step - loss: 0.3767 - mae: 0.3767\n",
            "Epoch 85/100\n",
            "1/1 [==============================] - 0s 14ms/step - loss: 0.2754 - mae: 0.2754\n",
            "Epoch 86/100\n",
            "1/1 [==============================] - 0s 7ms/step - loss: 0.3139 - mae: 0.3139\n",
            "Epoch 87/100\n",
            "1/1 [==============================] - 0s 16ms/step - loss: 0.2061 - mae: 0.2061\n",
            "Epoch 88/100\n",
            "1/1 [==============================] - 0s 4ms/step - loss: 0.2197 - mae: 0.2197\n",
            "Epoch 89/100\n",
            "1/1 [==============================] - 0s 10ms/step - loss: 0.2181 - mae: 0.2181\n",
            "Epoch 90/100\n",
            "1/1 [==============================] - 0s 5ms/step - loss: 0.2090 - mae: 0.2090\n",
            "Epoch 91/100\n",
            "1/1 [==============================] - 0s 10ms/step - loss: 0.2875 - mae: 0.2875\n",
            "Epoch 92/100\n",
            "1/1 [==============================] - 0s 11ms/step - loss: 0.1675 - mae: 0.1675\n",
            "Epoch 93/100\n",
            "1/1 [==============================] - 0s 5ms/step - loss: 0.2814 - mae: 0.2814\n",
            "Epoch 94/100\n",
            "1/1 [==============================] - 0s 11ms/step - loss: 0.2526 - mae: 0.2526\n",
            "Epoch 95/100\n",
            "1/1 [==============================] - 0s 8ms/step - loss: 0.1154 - mae: 0.1154\n",
            "Epoch 96/100\n",
            "1/1 [==============================] - 0s 7ms/step - loss: 0.1468 - mae: 0.1468\n",
            "Epoch 97/100\n",
            "1/1 [==============================] - 0s 5ms/step - loss: 0.1721 - mae: 0.1721\n",
            "Epoch 98/100\n",
            "1/1 [==============================] - 0s 5ms/step - loss: 0.1073 - mae: 0.1073\n",
            "Epoch 99/100\n",
            "1/1 [==============================] - 0s 6ms/step - loss: 0.1695 - mae: 0.1695\n",
            "Epoch 100/100\n",
            "1/1 [==============================] - 0s 9ms/step - loss: 0.1321 - mae: 0.1321\n"
          ],
          "name": "stdout"
        },
        {
          "output_type": "execute_result",
          "data": {
            "text/plain": [
              "<tensorflow.python.keras.callbacks.History at 0x7faab27b7650>"
            ]
          },
          "metadata": {
            "tags": []
          },
          "execution_count": 18
        }
      ]
    },
    {
      "cell_type": "code",
      "metadata": {
        "colab": {
          "base_uri": "https://localhost:8080/"
        },
        "id": "CdQl5fQfAvQb",
        "outputId": "fcd98fcc-c113-4027-e996-496ffce6fed0"
      },
      "source": [
        "# predict using revised model\n",
        "y_pred = tf_model.predict([17.0])\n",
        "y_pred"
      ],
      "execution_count": null,
      "outputs": [
        {
          "output_type": "execute_result",
          "data": {
            "text/plain": [
              "array([[26.3309]], dtype=float32)"
            ]
          },
          "metadata": {
            "tags": []
          },
          "execution_count": 19
        }
      ]
    },
    {
      "cell_type": "code",
      "metadata": {
        "colab": {
          "base_uri": "https://localhost:8080/"
        },
        "id": "gDK3bgXbRrA_",
        "outputId": "44889ba7-f30d-4226-b50b-21f38f80f539"
      },
      "source": [
        "# Make bigger dataset\n",
        "\n",
        "X = tf.range(-100, 100, 4)\n",
        "X"
      ],
      "execution_count": null,
      "outputs": [
        {
          "output_type": "execute_result",
          "data": {
            "text/plain": [
              "<tf.Tensor: shape=(50,), dtype=int32, numpy=\n",
              "array([-100,  -96,  -92,  -88,  -84,  -80,  -76,  -72,  -68,  -64,  -60,\n",
              "        -56,  -52,  -48,  -44,  -40,  -36,  -32,  -28,  -24,  -20,  -16,\n",
              "        -12,   -8,   -4,    0,    4,    8,   12,   16,   20,   24,   28,\n",
              "         32,   36,   40,   44,   48,   52,   56,   60,   64,   68,   72,\n",
              "         76,   80,   84,   88,   92,   96], dtype=int32)>"
            ]
          },
          "metadata": {
            "tags": []
          },
          "execution_count": 20
        }
      ]
    },
    {
      "cell_type": "code",
      "metadata": {
        "colab": {
          "base_uri": "https://localhost:8080/"
        },
        "id": "Dy0g6o4TY4mP",
        "outputId": "9ad7b71a-f770-45e1-f1d4-0d27a059a217"
      },
      "source": [
        "y = X + 10\n",
        "y"
      ],
      "execution_count": null,
      "outputs": [
        {
          "output_type": "execute_result",
          "data": {
            "text/plain": [
              "<tf.Tensor: shape=(50,), dtype=int32, numpy=\n",
              "array([-90, -86, -82, -78, -74, -70, -66, -62, -58, -54, -50, -46, -42,\n",
              "       -38, -34, -30, -26, -22, -18, -14, -10,  -6,  -2,   2,   6,  10,\n",
              "        14,  18,  22,  26,  30,  34,  38,  42,  46,  50,  54,  58,  62,\n",
              "        66,  70,  74,  78,  82,  86,  90,  94,  98, 102, 106], dtype=int32)>"
            ]
          },
          "metadata": {
            "tags": []
          },
          "execution_count": 21
        }
      ]
    },
    {
      "cell_type": "code",
      "metadata": {
        "id": "zoQ4_SvR25vR"
      },
      "source": [
        "import matplotlib.pyplot as plt\n"
      ],
      "execution_count": null,
      "outputs": []
    },
    {
      "cell_type": "code",
      "metadata": {
        "colab": {
          "base_uri": "https://localhost:8080/",
          "height": 283
        },
        "id": "vnCaIAEnY5I3",
        "outputId": "f2fd18ee-e077-455b-dca2-c44ee87d959d"
      },
      "source": [
        "plt.scatter(X, y)"
      ],
      "execution_count": null,
      "outputs": [
        {
          "output_type": "execute_result",
          "data": {
            "text/plain": [
              "<matplotlib.collections.PathCollection at 0x7faab11d5650>"
            ]
          },
          "metadata": {
            "tags": []
          },
          "execution_count": 23
        },
        {
          "output_type": "display_data",
          "data": {
            "image/png": "[encoded data removed]",
            "text/plain": [
              "<Figure size 432x288 with 1 Axes>"
            ]
          },
          "metadata": {
            "tags": [],
            "needs_background": "light"
          }
        }
      ]
    },
    {
      "cell_type": "code",
      "metadata": {
        "colab": {
          "base_uri": "https://localhost:8080/"
        },
        "id": "JDS8cQo7Y5dm",
        "outputId": "c56c17bc-1963-4eb9-d73c-653749298e7b"
      },
      "source": [
        "# Split the data\n",
        "X_train = X[:40]   # first 40 values of total 50 values\n",
        "y_train = y[:40]\n",
        "\n",
        "X_test = X[40:]    # last 10 values of total 50 values\n",
        "y_test = y[40:]\n",
        "\n",
        "len(X_train), len(X_test), len(y_train), len(y_test)"
      ],
      "execution_count": null,
      "outputs": [
        {
          "output_type": "execute_result",
          "data": {
            "text/plain": [
              "(40, 10, 40, 10)"
            ]
          },
          "metadata": {
            "tags": []
          },
          "execution_count": 24
        }
      ]
    },
    {
      "cell_type": "code",
      "metadata": {
        "colab": {
          "base_uri": "https://localhost:8080/",
          "height": 446
        },
        "id": "RKE3UI8qY5y-",
        "outputId": "1a8d7188-9556-4692-983a-d44df4062e55"
      },
      "source": [
        "# Visualize data\n",
        "\n",
        "plt.figure(figsize=(10, 7))\n",
        "plt.scatter(X_train, y_train, c=\"b\", label=\"Train Set\")\n",
        "plt.scatter(X_test, y_test, c=\"g\", label=\"Test Set\")\n",
        "plt.legend()"
      ],
      "execution_count": null,
      "outputs": [
        {
          "output_type": "execute_result",
          "data": {
            "text/plain": [
              "<matplotlib.legend.Legend at 0x7faab7f9e090>"
            ]
          },
          "metadata": {
            "tags": []
          },
          "execution_count": 25
        },
        {
          "output_type": "display_data",
          "data": {
            "image/png": "[encoded data removed]",
            "text/plain": [
              "<Figure size 720x504 with 1 Axes>"
            ]
          },
          "metadata": {
            "tags": [],
            "needs_background": "light"
          }
        }
      ]
    },
    {
      "cell_type": "code",
      "metadata": {
        "id": "6kvJYI382gU2"
      },
      "source": [
        "import tensorflow as tf\n"
      ],
      "execution_count": null,
      "outputs": []
    },
    {
      "cell_type": "code",
      "metadata": {
        "id": "kiBbmKy_ve5v"
      },
      "source": [
        "# Model on split data\n",
        "tf.random.set_seed(100)\n",
        "\n",
        "# Create model\n",
        "tf_model = tf.keras.Sequential(name=\"first_sequential_model\")\n",
        "tf_model.add(tf.keras.layers.Dense(100, input_shape=[1], name=\"Input_Layer\"))\n",
        "tf_model.add(tf.keras.layers.Dense(1, name=\"Output_Layer\"))\n"
      ],
      "execution_count": null,
      "outputs": []
    },
    {
      "cell_type": "code",
      "metadata": {
        "id": "eObEBYkBvfPC"
      },
      "source": [
        "#compile model\n",
        "tf_model.compile(loss=tf.keras.losses.mae,\n",
        "                 optimizer=tf.keras.optimizers.Adam(learning_rate=0.01),\n",
        "                 metrics=[\"mae\"])\n",
        "\n"
      ],
      "execution_count": null,
      "outputs": []
    },
    {
      "cell_type": "code",
      "metadata": {
        "colab": {
          "base_uri": "https://localhost:8080/"
        },
        "id": "yIUDmULj3RGE",
        "outputId": "eeafeb64-2b0b-4578-eb03-e91370047f39"
      },
      "source": [
        "tf_model.summary()"
      ],
      "execution_count": null,
      "outputs": [
        {
          "output_type": "stream",
          "text": [
            "Model: \"first_sequential_model\"\n",
            "_________________________________________________________________\n",
            "Layer (type)                 Output Shape              Param #   \n",
            "=================================================================\n",
            "Input_Layer (Dense)          (None, 100)               200       \n",
            "_________________________________________________________________\n",
            "Output_Layer (Dense)         (None, 1)                 101       \n",
            "=================================================================\n",
            "Total params: 301\n",
            "Trainable params: 301\n",
            "Non-trainable params: 0\n",
            "_________________________________________________________________\n"
          ],
          "name": "stdout"
        }
      ]
    },
    {
      "cell_type": "code",
      "metadata": {
        "colab": {
          "base_uri": "https://localhost:8080/"
        },
        "id": "CGbZKxgUvfmT",
        "outputId": "eaef23cd-7670-4550-b104-4dfb5031a01c"
      },
      "source": [
        "tf_model.fit(X_train, y_train, epochs=100, verbose=0)"
      ],
      "execution_count": null,
      "outputs": [
        {
          "output_type": "execute_result",
          "data": {
            "text/plain": [
              "<tensorflow.python.keras.callbacks.History at 0x7faab08db990>"
            ]
          },
          "metadata": {
            "tags": []
          },
          "execution_count": 30
        }
      ]
    },
    {
      "cell_type": "code",
      "metadata": {
        "id": "F4OysP05vf7U"
      },
      "source": [
        "from tensorflow.keras.utils import plot_model\n"
      ],
      "execution_count": null,
      "outputs": []
    },
    {
      "cell_type": "code",
      "metadata": {
        "colab": {
          "base_uri": "https://localhost:8080/",
          "height": 312
        },
        "id": "JdbkxzkR4Rz3",
        "outputId": "298f05c2-cced-40f8-b365-877fd7453b54"
      },
      "source": [
        "plot_model(model=tf_model, show_shapes=True)"
      ],
      "execution_count": null,
      "outputs": [
        {
          "output_type": "execute_result",
          "data": {
            "image/png": "[encoded data removed]",
            "text/plain": [
              "<IPython.core.display.Image object>"
            ]
          },
          "metadata": {
            "tags": []
          },
          "execution_count": 32
        }
      ]
    },
    {
      "cell_type": "code",
      "metadata": {
        "colab": {
          "base_uri": "https://localhost:8080/"
        },
        "id": "tE8Acctr4aHl",
        "outputId": "72b30079-eac0-4d33-f93c-b85e854ba544"
      },
      "source": [
        "# predict the model\n",
        "\n",
        "y_pred = tf_model.predict(X_test)\n",
        "y_pred"
      ],
      "execution_count": null,
      "outputs": [
        {
          "output_type": "execute_result",
          "data": {
            "text/plain": [
              "array([[ 68.37902 ],\n",
              "       [ 72.2664  ],\n",
              "       [ 76.15378 ],\n",
              "       [ 80.04116 ],\n",
              "       [ 83.92853 ],\n",
              "       [ 87.81592 ],\n",
              "       [ 91.7033  ],\n",
              "       [ 95.590675],\n",
              "       [ 99.478065],\n",
              "       [103.36544 ]], dtype=float32)"
            ]
          },
          "metadata": {
            "tags": []
          },
          "execution_count": 33
        }
      ]
    },
    {
      "cell_type": "code",
      "metadata": {
        "id": "fgaJbtDy65Ai"
      },
      "source": [
        "def plot_predictions(train_data=X_train,\n",
        "                     train_labels=y_train,\n",
        "                     test_data=X_test,\n",
        "                     test_labels=y_test,\n",
        "                     predictions=y_pred):\n",
        "  plt.figure(figsize=(10, 7))\n",
        "  plt.scatter(train_data, train_labels, c=\"b\", label=\"Training Data\")\n",
        "  plt.scatter(test_data, test_labels, c=\"g\", label=\"Test Data\")\n",
        "  plt.scatter(test_data, predictions, c=\"r\", label=\"Predictions\")\n",
        "  plt.legend();"
      ],
      "execution_count": null,
      "outputs": []
    },
    {
      "cell_type": "code",
      "metadata": {
        "colab": {
          "base_uri": "https://localhost:8080/",
          "height": 428
        },
        "id": "FBe_IsaoYBwM",
        "outputId": "c51166db-08ca-4286-85e7-88c6e022d19d"
      },
      "source": [
        "plot_predictions(train_data=X_train, train_labels=y_train, test_data=X_test, test_labels=y_test, predictions=y_pred)"
      ],
      "execution_count": null,
      "outputs": [
        {
          "output_type": "display_data",
          "data": {
            "image/png": "[encoded data removed]",
            "text/plain": [
              "<Figure size 720x504 with 1 Axes>"
            ]
          },
          "metadata": {
            "tags": [],
            "needs_background": "light"
          }
        }
      ]
    },
    {
      "cell_type": "markdown",
      "metadata": {
        "id": "2ld2Ikr3YDVW"
      },
      "source": [
        "Metrics Evaluation"
      ]
    },
    {
      "cell_type": "code",
      "metadata": {
        "colab": {
          "base_uri": "https://localhost:8080/"
        },
        "id": "zK-D8WIc9XHa",
        "outputId": "b1fcf6ce-005b-4a76-c850-55632f283644"
      },
      "source": [
        "# Evaluate Model\n",
        "tf_model.evaluate(X_test, y_test)\n"
      ],
      "execution_count": null,
      "outputs": [
        {
          "output_type": "stream",
          "text": [
            "1/1 [==============================] - 0s 131ms/step - loss: 2.1278 - mae: 2.1278\n"
          ],
          "name": "stdout"
        },
        {
          "output_type": "execute_result",
          "data": {
            "text/plain": [
              "[2.1277732849121094, 2.1277732849121094]"
            ]
          },
          "metadata": {
            "tags": []
          },
          "execution_count": 36
        }
      ]
    },
    {
      "cell_type": "code",
      "metadata": {
        "colab": {
          "base_uri": "https://localhost:8080/"
        },
        "id": "nO-gkVJh9XVx",
        "outputId": "b04dfdf0-3841-4ba6-e111-3d873ba6a175"
      },
      "source": [
        "# calculate MAE, while comparing tensors both should be in same shape. here use squeeze to change shape of y-pred same as y-test\n",
        "mae = tf.metrics.mean_absolute_error(y_true=y_test, y_pred=tf.squeeze(y_pred))\n",
        "mae"
      ],
      "execution_count": null,
      "outputs": [
        {
          "output_type": "execute_result",
          "data": {
            "text/plain": [
              "<tf.Tensor: shape=(), dtype=float32, numpy=2.127771>"
            ]
          },
          "metadata": {
            "tags": []
          },
          "execution_count": 37
        }
      ]
    },
    {
      "cell_type": "code",
      "metadata": {
        "colab": {
          "base_uri": "https://localhost:8080/"
        },
        "id": "apKoWwOl9XgX",
        "outputId": "841a53fe-c105-44ab-8fcf-a04dd34c4857"
      },
      "source": [
        "mse = tf.metrics.mean_squared_error(y_true=y_test, y_pred=tf.squeeze(y_pred))\n",
        "mse"
      ],
      "execution_count": null,
      "outputs": [
        {
          "output_type": "execute_result",
          "data": {
            "text/plain": [
              "<tf.Tensor: shape=(), dtype=float32, numpy=4.6320467>"
            ]
          },
          "metadata": {
            "tags": []
          },
          "execution_count": 38
        }
      ]
    },
    {
      "cell_type": "code",
      "metadata": {
        "id": "NwxUQNWV9Xp-"
      },
      "source": [
        "# Make functions on MAE and MSE\n",
        "def mae(y_test, y_pred):\n",
        "  return tf.metrics.mean_absolute_error(y_true=y_test, y_pred=tf.squeeze(y_pred))\n",
        "\n",
        "def mse(y_test, y_pred):\n",
        "  return tf.metrics.mean_squared_error(y_true=y_test, y_pred=tf.squeeze(y_pred))\n",
        "\n"
      ],
      "execution_count": null,
      "outputs": []
    },
    {
      "cell_type": "markdown",
      "metadata": {
        "id": "SpbkTBPy9XyN"
      },
      "source": [
        "Experiment to Improve Model"
      ]
    },
    {
      "cell_type": "code",
      "metadata": {
        "colab": {
          "base_uri": "https://localhost:8080/"
        },
        "id": "WnjM-sHGFLUM",
        "outputId": "1514a8d1-cd9c-4c5e-cb46-3127490ae21d"
      },
      "source": [
        "# Model 1 : 1 layer trained for 100 epochs\n",
        "tf.random.set_seed(100)\n",
        "\n",
        "# Create\n",
        "tf_model_1 = tf.keras.Sequential()\n",
        "tf_model_1.add(tf.keras.layers.Dense(1))\n",
        "\n",
        "# Compile\n",
        "tf_model_1.compile(loss=tf.keras.losses.mae, \n",
        "                   optimizer=tf.keras.optimizers.SGD(), \n",
        "                   metrics=[\"mae\"])\n",
        "\n",
        "# Fit\n",
        "tf_model_1.fit(X_train, y_train, epochs=100)\n"
      ],
      "execution_count": null,
      "outputs": [
        {
          "output_type": "stream",
          "text": [
            "Epoch 1/100\n",
            "2/2 [==============================] - 0s 7ms/step - loss: 74.0896 - mae: 74.0896\n",
            "Epoch 2/100\n",
            "2/2 [==============================] - 0s 6ms/step - loss: 36.9985 - mae: 36.9985\n",
            "Epoch 3/100\n",
            "2/2 [==============================] - 0s 6ms/step - loss: 8.8170 - mae: 8.8170\n",
            "Epoch 4/100\n",
            "2/2 [==============================] - 0s 4ms/step - loss: 13.4514 - mae: 13.4514\n",
            "Epoch 5/100\n",
            "2/2 [==============================] - 0s 3ms/step - loss: 9.6245 - mae: 9.6245\n",
            "Epoch 6/100\n",
            "2/2 [==============================] - 0s 3ms/step - loss: 19.1144 - mae: 19.1144\n",
            "Epoch 7/100\n",
            "2/2 [==============================] - 0s 6ms/step - loss: 14.1832 - mae: 14.1832\n",
            "Epoch 8/100\n",
            "2/2 [==============================] - 0s 6ms/step - loss: 9.5049 - mae: 9.5049\n",
            "Epoch 9/100\n",
            "2/2 [==============================] - 0s 6ms/step - loss: 9.3983 - mae: 9.3983\n",
            "Epoch 10/100\n",
            "2/2 [==============================] - 0s 6ms/step - loss: 13.4131 - mae: 13.4131\n",
            "Epoch 11/100\n",
            "2/2 [==============================] - 0s 6ms/step - loss: 13.2230 - mae: 13.2230\n",
            "Epoch 12/100\n",
            "2/2 [==============================] - 0s 6ms/step - loss: 11.1410 - mae: 11.1410\n",
            "Epoch 13/100\n",
            "2/2 [==============================] - 0s 10ms/step - loss: 7.5664 - mae: 7.5664\n",
            "Epoch 14/100\n",
            "2/2 [==============================] - 0s 3ms/step - loss: 10.2461 - mae: 10.2461\n",
            "Epoch 15/100\n",
            "2/2 [==============================] - 0s 3ms/step - loss: 13.1880 - mae: 13.1880\n",
            "Epoch 16/100\n",
            "2/2 [==============================] - 0s 3ms/step - loss: 7.4928 - mae: 7.4928\n",
            "Epoch 17/100\n",
            "2/2 [==============================] - 0s 5ms/step - loss: 9.8393 - mae: 9.8393\n",
            "Epoch 18/100\n",
            "2/2 [==============================] - 0s 13ms/step - loss: 14.9834 - mae: 14.9834\n",
            "Epoch 19/100\n",
            "2/2 [==============================] - 0s 3ms/step - loss: 14.5824 - mae: 14.5824\n",
            "Epoch 20/100\n",
            "2/2 [==============================] - 0s 4ms/step - loss: 11.3491 - mae: 11.3491\n",
            "Epoch 21/100\n",
            "2/2 [==============================] - 0s 4ms/step - loss: 8.6796 - mae: 8.6796\n",
            "Epoch 22/100\n",
            "2/2 [==============================] - 0s 3ms/step - loss: 13.0931 - mae: 13.0931\n",
            "Epoch 23/100\n",
            "2/2 [==============================] - 0s 5ms/step - loss: 7.9309 - mae: 7.9309\n",
            "Epoch 24/100\n",
            "2/2 [==============================] - 0s 6ms/step - loss: 9.0814 - mae: 9.0814\n",
            "Epoch 25/100\n",
            "2/2 [==============================] - 0s 6ms/step - loss: 8.6357 - mae: 8.6357\n",
            "Epoch 26/100\n",
            "2/2 [==============================] - 0s 4ms/step - loss: 11.7393 - mae: 11.7393\n",
            "Epoch 27/100\n",
            "2/2 [==============================] - 0s 4ms/step - loss: 8.5605 - mae: 8.5605\n",
            "Epoch 28/100\n",
            "2/2 [==============================] - 0s 6ms/step - loss: 10.9966 - mae: 10.9966\n",
            "Epoch 29/100\n",
            "2/2 [==============================] - 0s 10ms/step - loss: 15.9431 - mae: 15.9431\n",
            "Epoch 30/100\n",
            "2/2 [==============================] - 0s 5ms/step - loss: 10.9636 - mae: 10.9636\n",
            "Epoch 31/100\n",
            "2/2 [==============================] - 0s 4ms/step - loss: 10.0124 - mae: 10.0124\n",
            "Epoch 32/100\n",
            "2/2 [==============================] - 0s 6ms/step - loss: 17.2877 - mae: 17.2877\n",
            "Epoch 33/100\n",
            "2/2 [==============================] - 0s 6ms/step - loss: 7.4032 - mae: 7.4032\n",
            "Epoch 34/100\n",
            "2/2 [==============================] - 0s 22ms/step - loss: 8.8232 - mae: 8.8232\n",
            "Epoch 35/100\n",
            "2/2 [==============================] - 0s 7ms/step - loss: 20.2110 - mae: 20.2110\n",
            "Epoch 36/100\n",
            "2/2 [==============================] - 0s 5ms/step - loss: 7.3414 - mae: 7.3414\n",
            "Epoch 37/100\n",
            "2/2 [==============================] - 0s 3ms/step - loss: 19.2036 - mae: 19.2036\n",
            "Epoch 38/100\n",
            "2/2 [==============================] - 0s 4ms/step - loss: 15.8913 - mae: 15.8913\n",
            "Epoch 39/100\n",
            "2/2 [==============================] - 0s 4ms/step - loss: 8.4915 - mae: 8.4915\n",
            "Epoch 40/100\n",
            "2/2 [==============================] - 0s 4ms/step - loss: 9.2700 - mae: 9.2700\n",
            "Epoch 41/100\n",
            "2/2 [==============================] - 0s 4ms/step - loss: 11.0204 - mae: 11.0204\n",
            "Epoch 42/100\n",
            "2/2 [==============================] - 0s 4ms/step - loss: 12.5626 - mae: 12.5626\n",
            "Epoch 43/100\n",
            "2/2 [==============================] - 0s 4ms/step - loss: 9.7544 - mae: 9.7544\n",
            "Epoch 44/100\n",
            "2/2 [==============================] - 0s 5ms/step - loss: 10.1997 - mae: 10.1997\n",
            "Epoch 45/100\n",
            "2/2 [==============================] - 0s 4ms/step - loss: 12.2745 - mae: 12.2745\n",
            "Epoch 46/100\n",
            "2/2 [==============================] - 0s 4ms/step - loss: 14.3652 - mae: 14.3652\n",
            "Epoch 47/100\n",
            "2/2 [==============================] - 0s 4ms/step - loss: 8.2779 - mae: 8.2779\n",
            "Epoch 48/100\n",
            "2/2 [==============================] - 0s 5ms/step - loss: 8.6244 - mae: 8.6244\n",
            "Epoch 49/100\n",
            "2/2 [==============================] - 0s 4ms/step - loss: 12.9615 - mae: 12.9615\n",
            "Epoch 50/100\n",
            "2/2 [==============================] - 0s 5ms/step - loss: 9.5994 - mae: 9.5994\n",
            "Epoch 51/100\n",
            "2/2 [==============================] - 0s 5ms/step - loss: 11.9079 - mae: 11.9079\n",
            "Epoch 52/100\n",
            "2/2 [==============================] - 0s 4ms/step - loss: 11.5774 - mae: 11.5774\n",
            "Epoch 53/100\n",
            "2/2 [==============================] - 0s 6ms/step - loss: 14.1701 - mae: 14.1701\n",
            "Epoch 54/100\n",
            "2/2 [==============================] - 0s 7ms/step - loss: 11.8243 - mae: 11.8243\n",
            "Epoch 55/100\n",
            "2/2 [==============================] - 0s 5ms/step - loss: 8.3313 - mae: 8.3313\n",
            "Epoch 56/100\n",
            "2/2 [==============================] - 0s 4ms/step - loss: 9.8058 - mae: 9.8058\n",
            "Epoch 57/100\n",
            "2/2 [==============================] - 0s 4ms/step - loss: 9.6350 - mae: 9.6350\n",
            "Epoch 58/100\n",
            "2/2 [==============================] - 0s 4ms/step - loss: 10.8598 - mae: 10.8598\n",
            "Epoch 59/100\n",
            "2/2 [==============================] - 0s 7ms/step - loss: 13.4869 - mae: 13.4869\n",
            "Epoch 60/100\n",
            "2/2 [==============================] - 0s 5ms/step - loss: 9.9446 - mae: 9.9446\n",
            "Epoch 61/100\n",
            "2/2 [==============================] - 0s 3ms/step - loss: 7.2040 - mae: 7.2040\n",
            "Epoch 62/100\n",
            "2/2 [==============================] - 0s 4ms/step - loss: 10.6544 - mae: 10.6544\n",
            "Epoch 63/100\n",
            "2/2 [==============================] - 0s 4ms/step - loss: 11.2242 - mae: 11.2242\n",
            "Epoch 64/100\n",
            "2/2 [==============================] - 0s 3ms/step - loss: 12.3536 - mae: 12.3536\n",
            "Epoch 65/100\n",
            "2/2 [==============================] - 0s 4ms/step - loss: 11.4932 - mae: 11.4932\n",
            "Epoch 66/100\n",
            "2/2 [==============================] - 0s 3ms/step - loss: 13.0168 - mae: 13.0168\n",
            "Epoch 67/100\n",
            "2/2 [==============================] - 0s 6ms/step - loss: 10.1035 - mae: 10.1035\n",
            "Epoch 68/100\n",
            "2/2 [==============================] - 0s 5ms/step - loss: 8.0901 - mae: 8.0901\n",
            "Epoch 69/100\n",
            "2/2 [==============================] - 0s 4ms/step - loss: 7.2345 - mae: 7.2345\n",
            "Epoch 70/100\n",
            "2/2 [==============================] - 0s 5ms/step - loss: 9.0921 - mae: 9.0921\n",
            "Epoch 71/100\n",
            "2/2 [==============================] - 0s 6ms/step - loss: 8.8802 - mae: 8.8802\n",
            "Epoch 72/100\n",
            "2/2 [==============================] - 0s 7ms/step - loss: 13.0512 - mae: 13.0512\n",
            "Epoch 73/100\n",
            "2/2 [==============================] - 0s 12ms/step - loss: 8.2478 - mae: 8.2478\n",
            "Epoch 74/100\n",
            "2/2 [==============================] - 0s 4ms/step - loss: 12.0223 - mae: 12.0223\n",
            "Epoch 75/100\n",
            "2/2 [==============================] - 0s 4ms/step - loss: 8.6997 - mae: 8.6997\n",
            "Epoch 76/100\n",
            "2/2 [==============================] - 0s 4ms/step - loss: 12.3469 - mae: 12.3469\n",
            "Epoch 77/100\n",
            "2/2 [==============================] - 0s 4ms/step - loss: 13.6503 - mae: 13.6503\n",
            "Epoch 78/100\n",
            "2/2 [==============================] - 0s 3ms/step - loss: 13.9857 - mae: 13.9857\n",
            "Epoch 79/100\n",
            "2/2 [==============================] - 0s 5ms/step - loss: 11.0437 - mae: 11.0437\n",
            "Epoch 80/100\n",
            "2/2 [==============================] - 0s 3ms/step - loss: 13.8744 - mae: 13.8744\n",
            "Epoch 81/100\n",
            "2/2 [==============================] - 0s 5ms/step - loss: 11.0404 - mae: 11.0404\n",
            "Epoch 82/100\n",
            "2/2 [==============================] - 0s 3ms/step - loss: 13.2780 - mae: 13.2780\n",
            "Epoch 83/100\n",
            "2/2 [==============================] - 0s 4ms/step - loss: 8.5396 - mae: 8.5396\n",
            "Epoch 84/100\n",
            "2/2 [==============================] - 0s 4ms/step - loss: 12.2974 - mae: 12.2974\n",
            "Epoch 85/100\n",
            "2/2 [==============================] - 0s 4ms/step - loss: 9.1800 - mae: 9.1800\n",
            "Epoch 86/100\n",
            "2/2 [==============================] - 0s 4ms/step - loss: 10.4230 - mae: 10.4230\n",
            "Epoch 87/100\n",
            "2/2 [==============================] - 0s 4ms/step - loss: 12.0248 - mae: 12.0248\n",
            "Epoch 88/100\n",
            "2/2 [==============================] - 0s 19ms/step - loss: 22.0248 - mae: 22.0248\n",
            "Epoch 89/100\n",
            "2/2 [==============================] - 0s 5ms/step - loss: 8.7243 - mae: 8.7243\n",
            "Epoch 90/100\n",
            "2/2 [==============================] - 0s 4ms/step - loss: 12.8590 - mae: 12.8590\n",
            "Epoch 91/100\n",
            "2/2 [==============================] - 0s 5ms/step - loss: 10.8052 - mae: 10.8052\n",
            "Epoch 92/100\n",
            "2/2 [==============================] - 0s 4ms/step - loss: 11.0381 - mae: 11.0381\n",
            "Epoch 93/100\n",
            "2/2 [==============================] - 0s 3ms/step - loss: 15.6092 - mae: 15.6092\n",
            "Epoch 94/100\n",
            "2/2 [==============================] - 0s 4ms/step - loss: 13.8552 - mae: 13.8552\n",
            "Epoch 95/100\n",
            "2/2 [==============================] - 0s 4ms/step - loss: 21.8667 - mae: 21.8667\n",
            "Epoch 96/100\n",
            "2/2 [==============================] - 0s 4ms/step - loss: 14.9179 - mae: 14.9179\n",
            "Epoch 97/100\n",
            "2/2 [==============================] - 0s 6ms/step - loss: 10.7573 - mae: 10.7573\n",
            "Epoch 98/100\n",
            "2/2 [==============================] - 0s 3ms/step - loss: 13.7237 - mae: 13.7237\n",
            "Epoch 99/100\n",
            "2/2 [==============================] - 0s 4ms/step - loss: 10.6733 - mae: 10.6733\n",
            "Epoch 100/100\n",
            "2/2 [==============================] - 0s 3ms/step - loss: 9.1524 - mae: 9.1524\n"
          ],
          "name": "stdout"
        },
        {
          "output_type": "execute_result",
          "data": {
            "text/plain": [
              "<tensorflow.python.keras.callbacks.History at 0x7faab4978d90>"
            ]
          },
          "metadata": {
            "tags": []
          },
          "execution_count": 43
        }
      ]
    },
    {
      "cell_type": "code",
      "metadata": {
        "colab": {
          "base_uri": "https://localhost:8080/",
          "height": 428
        },
        "id": "hvfQv8ee9k_D",
        "outputId": "ea84f7f8-caef-42ea-baa5-f8edf6686417"
      },
      "source": [
        "# make and plot predictions on Model_1\n",
        "y_pred_1 = tf_model_1.predict(X_test)\n",
        "plot_predictions(predictions=y_pred_1)\n"
      ],
      "execution_count": null,
      "outputs": [
        {
          "output_type": "display_data",
          "data": {
            "image/png": "[encoded data removed]",
            "text/plain": [
              "<Figure size 720x504 with 1 Axes>"
            ]
          },
          "metadata": {
            "tags": [],
            "needs_background": "light"
          }
        }
      ]
    },
    {
      "cell_type": "code",
      "metadata": {
        "colab": {
          "base_uri": "https://localhost:8080/"
        },
        "id": "EbOnzNb1_kBx",
        "outputId": "b8580090-a9b5-4f27-d774-9ab2ed10ee5d"
      },
      "source": [
        "# Model_1 evaluation\n",
        "mae_1 = mae(y_test, y_pred_1)\n",
        "mse_1 = mse(y_test, y_pred_1)\n",
        "\n",
        "mae_1, mse_1"
      ],
      "execution_count": null,
      "outputs": [
        {
          "output_type": "execute_result",
          "data": {
            "text/plain": [
              "(<tf.Tensor: shape=(), dtype=float32, numpy=6.7437425>,\n",
              " <tf.Tensor: shape=(), dtype=float32, numpy=50.65365>)"
            ]
          },
          "metadata": {
            "tags": []
          },
          "execution_count": 48
        }
      ]
    },
    {
      "cell_type": "code",
      "metadata": {
        "colab": {
          "base_uri": "https://localhost:8080/"
        },
        "id": "U1JgNyC5FLgc",
        "outputId": "4df830d5-625d-4a65-f8fa-dc4cc28b3c9d"
      },
      "source": [
        "# Model 2 : 2 layers trained for 100 epochs\n",
        "# Create\n",
        "tf_model_2 = tf.keras.Sequential()\n",
        "tf_model_2.add(tf.keras.layers.Dense(10))\n",
        "tf_model_2.add(tf.keras.layers.Dense(1))\n",
        "\n",
        "# Compile\n",
        "tf_model_2.compile(loss=tf.keras.losses.mae, \n",
        "                   optimizer=tf.keras.optimizers.SGD(), \n",
        "                   metrics=[\"mae\"])\n",
        "\n",
        "# Fit\n",
        "tf_model_2.fit(X_train, y_train, epochs=100)\n"
      ],
      "execution_count": null,
      "outputs": [
        {
          "output_type": "stream",
          "text": [
            "Epoch 1/100\n",
            "2/2 [==============================] - 0s 7ms/step - loss: 81.3025 - mae: 81.3025\n",
            "Epoch 2/100\n",
            "2/2 [==============================] - 0s 8ms/step - loss: 41.0892 - mae: 41.0892\n",
            "Epoch 3/100\n",
            "2/2 [==============================] - 0s 7ms/step - loss: 16.8256 - mae: 16.8256\n",
            "Epoch 4/100\n",
            "2/2 [==============================] - 0s 7ms/step - loss: 13.7006 - mae: 13.7006\n",
            "Epoch 5/100\n",
            "2/2 [==============================] - 0s 5ms/step - loss: 13.0886 - mae: 13.0886\n",
            "Epoch 6/100\n",
            "2/2 [==============================] - 0s 12ms/step - loss: 41.0608 - mae: 41.0608\n",
            "Epoch 7/100\n",
            "2/2 [==============================] - 0s 8ms/step - loss: 9.2223 - mae: 9.2223\n",
            "Epoch 8/100\n",
            "2/2 [==============================] - 0s 3ms/step - loss: 8.2856 - mae: 8.2856\n",
            "Epoch 9/100\n",
            "2/2 [==============================] - 0s 9ms/step - loss: 17.1189 - mae: 17.1189\n",
            "Epoch 10/100\n",
            "2/2 [==============================] - 0s 5ms/step - loss: 13.3627 - mae: 13.3627\n",
            "Epoch 11/100\n",
            "2/2 [==============================] - 0s 12ms/step - loss: 11.8318 - mae: 11.8318\n",
            "Epoch 12/100\n",
            "2/2 [==============================] - 0s 5ms/step - loss: 15.9612 - mae: 15.9612\n",
            "Epoch 13/100\n",
            "2/2 [==============================] - 0s 6ms/step - loss: 9.9931 - mae: 9.9931\n",
            "Epoch 14/100\n",
            "2/2 [==============================] - 0s 5ms/step - loss: 14.8809 - mae: 14.8809\n",
            "Epoch 15/100\n",
            "2/2 [==============================] - 0s 6ms/step - loss: 11.3323 - mae: 11.3323\n",
            "Epoch 16/100\n",
            "2/2 [==============================] - 0s 7ms/step - loss: 13.4905 - mae: 13.4905\n",
            "Epoch 17/100\n",
            "2/2 [==============================] - 0s 9ms/step - loss: 7.4332 - mae: 7.4332\n",
            "Epoch 18/100\n",
            "2/2 [==============================] - 0s 3ms/step - loss: 18.9330 - mae: 18.9330\n",
            "Epoch 19/100\n",
            "2/2 [==============================] - 0s 11ms/step - loss: 34.8870 - mae: 34.8870\n",
            "Epoch 20/100\n",
            "2/2 [==============================] - 0s 6ms/step - loss: 16.5136 - mae: 16.5136\n",
            "Epoch 21/100\n",
            "2/2 [==============================] - 0s 8ms/step - loss: 22.7462 - mae: 22.7462\n",
            "Epoch 22/100\n",
            "2/2 [==============================] - 0s 4ms/step - loss: 9.6994 - mae: 9.6994\n",
            "Epoch 23/100\n",
            "2/2 [==============================] - 0s 4ms/step - loss: 7.8567 - mae: 7.8567\n",
            "Epoch 24/100\n",
            "2/2 [==============================] - 0s 4ms/step - loss: 15.1679 - mae: 15.1679\n",
            "Epoch 25/100\n",
            "2/2 [==============================] - 0s 7ms/step - loss: 26.3125 - mae: 26.3125\n",
            "Epoch 26/100\n",
            "2/2 [==============================] - 0s 7ms/step - loss: 12.1677 - mae: 12.1677\n",
            "Epoch 27/100\n",
            "2/2 [==============================] - 0s 3ms/step - loss: 9.8035 - mae: 9.8035\n",
            "Epoch 28/100\n",
            "2/2 [==============================] - 0s 4ms/step - loss: 20.9458 - mae: 20.9458\n",
            "Epoch 29/100\n",
            "2/2 [==============================] - 0s 5ms/step - loss: 12.9312 - mae: 12.9312\n",
            "Epoch 30/100\n",
            "2/2 [==============================] - 0s 4ms/step - loss: 9.8923 - mae: 9.8923\n",
            "Epoch 31/100\n",
            "2/2 [==============================] - 0s 4ms/step - loss: 9.9065 - mae: 9.9065\n",
            "Epoch 32/100\n",
            "2/2 [==============================] - 0s 6ms/step - loss: 21.0870 - mae: 21.0870\n",
            "Epoch 33/100\n",
            "2/2 [==============================] - 0s 7ms/step - loss: 25.6877 - mae: 25.6877\n",
            "Epoch 34/100\n",
            "2/2 [==============================] - 0s 5ms/step - loss: 10.4952 - mae: 10.4952\n",
            "Epoch 35/100\n",
            "2/2 [==============================] - 0s 5ms/step - loss: 37.5483 - mae: 37.5483\n",
            "Epoch 36/100\n",
            "2/2 [==============================] - 0s 4ms/step - loss: 10.4932 - mae: 10.4932\n",
            "Epoch 37/100\n",
            "2/2 [==============================] - 0s 4ms/step - loss: 24.7716 - mae: 24.7716\n",
            "Epoch 38/100\n",
            "2/2 [==============================] - 0s 4ms/step - loss: 7.2641 - mae: 7.2641\n",
            "Epoch 39/100\n",
            "2/2 [==============================] - 0s 4ms/step - loss: 12.1677 - mae: 12.1677\n",
            "Epoch 40/100\n",
            "2/2 [==============================] - 0s 4ms/step - loss: 10.9607 - mae: 10.9607\n",
            "Epoch 41/100\n",
            "2/2 [==============================] - 0s 4ms/step - loss: 14.0991 - mae: 14.0991\n",
            "Epoch 42/100\n",
            "2/2 [==============================] - 0s 4ms/step - loss: 16.3182 - mae: 16.3182\n",
            "Epoch 43/100\n",
            "2/2 [==============================] - 0s 4ms/step - loss: 12.5056 - mae: 12.5056\n",
            "Epoch 44/100\n",
            "2/2 [==============================] - 0s 6ms/step - loss: 11.9836 - mae: 11.9836\n",
            "Epoch 45/100\n",
            "2/2 [==============================] - 0s 11ms/step - loss: 20.3697 - mae: 20.3697\n",
            "Epoch 46/100\n",
            "2/2 [==============================] - 0s 7ms/step - loss: 13.4999 - mae: 13.4999\n",
            "Epoch 47/100\n",
            "2/2 [==============================] - 0s 4ms/step - loss: 13.2560 - mae: 13.2560\n",
            "Epoch 48/100\n",
            "2/2 [==============================] - 0s 7ms/step - loss: 9.6920 - mae: 9.6920\n",
            "Epoch 49/100\n",
            "2/2 [==============================] - 0s 5ms/step - loss: 15.1572 - mae: 15.1572\n",
            "Epoch 50/100\n",
            "2/2 [==============================] - 0s 8ms/step - loss: 9.6819 - mae: 9.6819\n",
            "Epoch 51/100\n",
            "2/2 [==============================] - 0s 4ms/step - loss: 12.5308 - mae: 12.5308\n",
            "Epoch 52/100\n",
            "2/2 [==============================] - 0s 7ms/step - loss: 13.1010 - mae: 13.1010\n",
            "Epoch 53/100\n",
            "2/2 [==============================] - 0s 4ms/step - loss: 28.5275 - mae: 28.5275\n",
            "Epoch 54/100\n",
            "2/2 [==============================] - 0s 8ms/step - loss: 10.4647 - mae: 10.4647\n",
            "Epoch 55/100\n",
            "2/2 [==============================] - 0s 4ms/step - loss: 10.2562 - mae: 10.2562\n",
            "Epoch 56/100\n",
            "2/2 [==============================] - 0s 7ms/step - loss: 14.7248 - mae: 14.7248\n",
            "Epoch 57/100\n",
            "2/2 [==============================] - 0s 5ms/step - loss: 10.0590 - mae: 10.0590\n",
            "Epoch 58/100\n",
            "2/2 [==============================] - 0s 5ms/step - loss: 10.6616 - mae: 10.6616\n",
            "Epoch 59/100\n",
            "2/2 [==============================] - 0s 4ms/step - loss: 21.6789 - mae: 21.6789\n",
            "Epoch 60/100\n",
            "2/2 [==============================] - 0s 4ms/step - loss: 8.5600 - mae: 8.5600\n",
            "Epoch 61/100\n",
            "2/2 [==============================] - 0s 12ms/step - loss: 11.5879 - mae: 11.5879\n",
            "Epoch 62/100\n",
            "2/2 [==============================] - 0s 4ms/step - loss: 13.1885 - mae: 13.1885\n",
            "Epoch 63/100\n",
            "2/2 [==============================] - 0s 8ms/step - loss: 18.9275 - mae: 18.9275\n",
            "Epoch 64/100\n",
            "2/2 [==============================] - 0s 4ms/step - loss: 13.0242 - mae: 13.0242\n",
            "Epoch 65/100\n",
            "2/2 [==============================] - 0s 4ms/step - loss: 26.1276 - mae: 26.1276\n",
            "Epoch 66/100\n",
            "2/2 [==============================] - 0s 21ms/step - loss: 12.5525 - mae: 12.5525\n",
            "Epoch 67/100\n",
            "2/2 [==============================] - 0s 3ms/step - loss: 22.4654 - mae: 22.4654\n",
            "Epoch 68/100\n",
            "2/2 [==============================] - 0s 4ms/step - loss: 7.1630 - mae: 7.1630\n",
            "Epoch 69/100\n",
            "2/2 [==============================] - 0s 4ms/step - loss: 12.8818 - mae: 12.8818\n",
            "Epoch 70/100\n",
            "2/2 [==============================] - 0s 9ms/step - loss: 12.1411 - mae: 12.1411\n",
            "Epoch 71/100\n",
            "2/2 [==============================] - 0s 3ms/step - loss: 16.1988 - mae: 16.1988\n",
            "Epoch 72/100\n",
            "2/2 [==============================] - 0s 8ms/step - loss: 17.8835 - mae: 17.8835\n",
            "Epoch 73/100\n",
            "2/2 [==============================] - 0s 8ms/step - loss: 9.0226 - mae: 9.0226\n",
            "Epoch 74/100\n",
            "2/2 [==============================] - 0s 9ms/step - loss: 13.8008 - mae: 13.8008\n",
            "Epoch 75/100\n",
            "2/2 [==============================] - 0s 9ms/step - loss: 14.4470 - mae: 14.4470\n",
            "Epoch 76/100\n",
            "2/2 [==============================] - 0s 5ms/step - loss: 24.9103 - mae: 24.9103\n",
            "Epoch 77/100\n",
            "2/2 [==============================] - 0s 10ms/step - loss: 19.2481 - mae: 19.2481\n",
            "Epoch 78/100\n",
            "2/2 [==============================] - 0s 15ms/step - loss: 17.1512 - mae: 17.1512\n",
            "Epoch 79/100\n",
            "2/2 [==============================] - 0s 4ms/step - loss: 13.8714 - mae: 13.8714\n",
            "Epoch 80/100\n",
            "2/2 [==============================] - 0s 4ms/step - loss: 20.6850 - mae: 20.6850\n",
            "Epoch 81/100\n",
            "2/2 [==============================] - 0s 4ms/step - loss: 19.5106 - mae: 19.5106\n",
            "Epoch 82/100\n",
            "2/2 [==============================] - 0s 4ms/step - loss: 18.8545 - mae: 18.8545\n",
            "Epoch 83/100\n",
            "2/2 [==============================] - 0s 4ms/step - loss: 13.9805 - mae: 13.9805\n",
            "Epoch 84/100\n",
            "2/2 [==============================] - 0s 4ms/step - loss: 24.1740 - mae: 24.1740\n",
            "Epoch 85/100\n",
            "2/2 [==============================] - 0s 5ms/step - loss: 14.6491 - mae: 14.6491\n",
            "Epoch 86/100\n",
            "2/2 [==============================] - 0s 5ms/step - loss: 10.4708 - mae: 10.4708\n",
            "Epoch 87/100\n",
            "2/2 [==============================] - 0s 5ms/step - loss: 9.2931 - mae: 9.2931\n",
            "Epoch 88/100\n",
            "2/2 [==============================] - 0s 5ms/step - loss: 23.8510 - mae: 23.8510\n",
            "Epoch 89/100\n",
            "2/2 [==============================] - 0s 6ms/step - loss: 10.8378 - mae: 10.8378\n",
            "Epoch 90/100\n",
            "2/2 [==============================] - 0s 3ms/step - loss: 26.0742 - mae: 26.0742\n",
            "Epoch 91/100\n",
            "2/2 [==============================] - 0s 4ms/step - loss: 11.0721 - mae: 11.0721\n",
            "Epoch 92/100\n",
            "2/2 [==============================] - 0s 5ms/step - loss: 22.6159 - mae: 22.6159\n",
            "Epoch 93/100\n",
            "2/2 [==============================] - 0s 4ms/step - loss: 20.7524 - mae: 20.7524\n",
            "Epoch 94/100\n",
            "2/2 [==============================] - 0s 5ms/step - loss: 8.8869 - mae: 8.8869\n",
            "Epoch 95/100\n",
            "2/2 [==============================] - 0s 5ms/step - loss: 36.9752 - mae: 36.9752\n",
            "Epoch 96/100\n",
            "2/2 [==============================] - 0s 6ms/step - loss: 22.0001 - mae: 22.0001\n",
            "Epoch 97/100\n",
            "2/2 [==============================] - 0s 6ms/step - loss: 13.0612 - mae: 13.0612\n",
            "Epoch 98/100\n",
            "2/2 [==============================] - 0s 8ms/step - loss: 21.3960 - mae: 21.3960\n",
            "Epoch 99/100\n",
            "2/2 [==============================] - 0s 8ms/step - loss: 23.8194 - mae: 23.8194\n",
            "Epoch 100/100\n",
            "2/2 [==============================] - 0s 4ms/step - loss: 7.1371 - mae: 7.1371\n"
          ],
          "name": "stdout"
        },
        {
          "output_type": "execute_result",
          "data": {
            "text/plain": [
              "<tensorflow.python.keras.callbacks.History at 0x7faab33cde90>"
            ]
          },
          "metadata": {
            "tags": []
          },
          "execution_count": 52
        }
      ]
    },
    {
      "cell_type": "code",
      "metadata": {
        "colab": {
          "base_uri": "https://localhost:8080/",
          "height": 466
        },
        "id": "O-G0Cw53U6KH",
        "outputId": "88da8d72-ae9f-4b4b-c7c0-085ff4fa057d"
      },
      "source": [
        "# make and plot predictions on Model_2\n",
        "y_pred_2 = tf_model_2.predict(X_test)\n",
        "plot_predictions(predictions=y_pred_2)\n"
      ],
      "execution_count": null,
      "outputs": [
        {
          "output_type": "stream",
          "text": [
            "WARNING:tensorflow:6 out of the last 6 calls to <function Model.make_predict_function.<locals>.predict_function at 0x7faab333ca70> triggered tf.function retracing. Tracing is expensive and the excessive number of tracings could be due to (1) creating @tf.function repeatedly in a loop, (2) passing tensors with different shapes, (3) passing Python objects instead of tensors. For (1), please define your @tf.function outside of the loop. For (2), @tf.function has experimental_relax_shapes=True option that relaxes argument shapes that can avoid unnecessary retracing. For (3), please refer to https://www.tensorflow.org/guide/function#controlling_retracing and https://www.tensorflow.org/api_docs/python/tf/function for  more details.\n"
          ],
          "name": "stdout"
        },
        {
          "output_type": "display_data",
          "data": {
            "image/png": "[encoded data removed]",
            "text/plain": [
              "<Figure size 720x504 with 1 Axes>"
            ]
          },
          "metadata": {
            "tags": [],
            "needs_background": "light"
          }
        }
      ]
    },
    {
      "cell_type": "code",
      "metadata": {
        "colab": {
          "base_uri": "https://localhost:8080/"
        },
        "id": "skdmsGpPU6oS",
        "outputId": "9fc16fd3-77e3-41db-ce8c-4e7b94a1aaa7"
      },
      "source": [
        "# Model_2 evaluation\n",
        "mae_2 = mae(y_test, y_pred_2)\n",
        "mse_2 = mse(y_test, y_pred_2)\n",
        "\n",
        "mae_2, mse_2"
      ],
      "execution_count": null,
      "outputs": [
        {
          "output_type": "execute_result",
          "data": {
            "text/plain": [
              "(<tf.Tensor: shape=(), dtype=float32, numpy=27.134838>,\n",
              " <tf.Tensor: shape=(), dtype=float32, numpy=743.84094>)"
            ]
          },
          "metadata": {
            "tags": []
          },
          "execution_count": 54
        }
      ]
    },
    {
      "cell_type": "code",
      "metadata": {
        "colab": {
          "base_uri": "https://localhost:8080/"
        },
        "id": "tYg1q7zxFLo6",
        "outputId": "17e77b70-3a7b-4546-ad9b-028fc0dbb1bb"
      },
      "source": [
        "# Model 3 : 2 layers trained for 500 epochs\n",
        "# Create\n",
        "tf_model_3 = tf.keras.Sequential()\n",
        "tf_model_3.add(tf.keras.layers.Dense(10))\n",
        "tf_model_3.add(tf.keras.layers.Dense(1))\n",
        "\n",
        "# Compile\n",
        "tf_model_3.compile(loss=tf.keras.losses.mae, \n",
        "                   optimizer=tf.keras.optimizers.SGD(), \n",
        "                   metrics=[\"mae\"])\n",
        "\n",
        "# Fit\n",
        "tf_model_3.fit(X_train, y_train, epochs=500)\n"
      ],
      "execution_count": null,
      "outputs": [
        {
          "output_type": "stream",
          "text": [
            "Epoch 1/500\n",
            "2/2 [==============================] - 0s 7ms/step - loss: 38.6321 - mae: 38.6321\n",
            "Epoch 2/500\n",
            "2/2 [==============================] - 0s 8ms/step - loss: 38.5657 - mae: 38.5657\n",
            "Epoch 3/500\n",
            "2/2 [==============================] - 0s 6ms/step - loss: 27.4943 - mae: 27.4943\n",
            "Epoch 4/500\n",
            "2/2 [==============================] - 0s 7ms/step - loss: 21.0671 - mae: 21.0671\n",
            "Epoch 5/500\n",
            "2/2 [==============================] - 0s 7ms/step - loss: 10.6561 - mae: 10.6561\n",
            "Epoch 6/500\n",
            "2/2 [==============================] - 0s 7ms/step - loss: 39.3938 - mae: 39.3938\n",
            "Epoch 7/500\n",
            "2/2 [==============================] - 0s 9ms/step - loss: 7.5509 - mae: 7.5509\n",
            "Epoch 8/500\n",
            "2/2 [==============================] - 0s 3ms/step - loss: 12.5286 - mae: 12.5286\n",
            "Epoch 9/500\n",
            "2/2 [==============================] - 0s 8ms/step - loss: 10.6958 - mae: 10.6958\n",
            "Epoch 10/500\n",
            "2/2 [==============================] - 0s 12ms/step - loss: 18.5567 - mae: 18.5567\n",
            "Epoch 11/500\n",
            "2/2 [==============================] - 0s 11ms/step - loss: 12.1298 - mae: 12.1298\n",
            "Epoch 12/500\n",
            "2/2 [==============================] - 0s 9ms/step - loss: 20.7931 - mae: 20.7931\n",
            "Epoch 13/500\n",
            "2/2 [==============================] - 0s 12ms/step - loss: 17.3998 - mae: 17.3998\n",
            "Epoch 14/500\n",
            "2/2 [==============================] - 0s 4ms/step - loss: 13.6433 - mae: 13.6433\n",
            "Epoch 15/500\n",
            "2/2 [==============================] - 0s 15ms/step - loss: 14.4469 - mae: 14.4469\n",
            "Epoch 16/500\n",
            "2/2 [==============================] - 0s 12ms/step - loss: 10.1329 - mae: 10.1329\n",
            "Epoch 17/500\n",
            "2/2 [==============================] - 0s 10ms/step - loss: 10.7371 - mae: 10.7371\n",
            "Epoch 18/500\n",
            "2/2 [==============================] - 0s 6ms/step - loss: 29.2600 - mae: 29.2600\n",
            "Epoch 19/500\n",
            "2/2 [==============================] - 0s 7ms/step - loss: 10.6101 - mae: 10.6101\n",
            "Epoch 20/500\n",
            "2/2 [==============================] - 0s 8ms/step - loss: 14.3342 - mae: 14.3342\n",
            "Epoch 21/500\n",
            "2/2 [==============================] - 0s 10ms/step - loss: 26.4264 - mae: 26.4264\n",
            "Epoch 22/500\n",
            "2/2 [==============================] - 0s 6ms/step - loss: 9.3921 - mae: 9.3921\n",
            "Epoch 23/500\n",
            "2/2 [==============================] - 0s 6ms/step - loss: 7.9420 - mae: 7.9420\n",
            "Epoch 24/500\n",
            "2/2 [==============================] - 0s 4ms/step - loss: 15.5613 - mae: 15.5613\n",
            "Epoch 25/500\n",
            "2/2 [==============================] - 0s 5ms/step - loss: 26.1580 - mae: 26.1580\n",
            "Epoch 26/500\n",
            "2/2 [==============================] - 0s 4ms/step - loss: 12.3196 - mae: 12.3196\n",
            "Epoch 27/500\n",
            "2/2 [==============================] - 0s 4ms/step - loss: 9.8418 - mae: 9.8418\n",
            "Epoch 28/500\n",
            "2/2 [==============================] - 0s 4ms/step - loss: 21.5805 - mae: 21.5805\n",
            "Epoch 29/500\n",
            "2/2 [==============================] - 0s 5ms/step - loss: 12.2514 - mae: 12.2514\n",
            "Epoch 30/500\n",
            "2/2 [==============================] - 0s 4ms/step - loss: 7.2509 - mae: 7.2509\n",
            "Epoch 31/500\n",
            "2/2 [==============================] - 0s 5ms/step - loss: 7.7018 - mae: 7.7018\n",
            "Epoch 32/500\n",
            "2/2 [==============================] - 0s 5ms/step - loss: 33.3366 - mae: 33.3366\n",
            "Epoch 33/500\n",
            "2/2 [==============================] - 0s 4ms/step - loss: 20.5940 - mae: 20.5940\n",
            "Epoch 34/500\n",
            "2/2 [==============================] - 0s 5ms/step - loss: 10.3847 - mae: 10.3847\n",
            "Epoch 35/500\n",
            "2/2 [==============================] - 0s 10ms/step - loss: 36.3957 - mae: 36.3957\n",
            "Epoch 36/500\n",
            "2/2 [==============================] - 0s 5ms/step - loss: 10.3310 - mae: 10.3310\n",
            "Epoch 37/500\n",
            "2/2 [==============================] - 0s 4ms/step - loss: 23.7672 - mae: 23.7672\n",
            "Epoch 38/500\n",
            "2/2 [==============================] - 0s 4ms/step - loss: 8.6244 - mae: 8.6244\n",
            "Epoch 39/500\n",
            "2/2 [==============================] - 0s 4ms/step - loss: 11.0940 - mae: 11.0940\n",
            "Epoch 40/500\n",
            "2/2 [==============================] - 0s 4ms/step - loss: 10.2309 - mae: 10.2309\n",
            "Epoch 41/500\n",
            "2/2 [==============================] - 0s 4ms/step - loss: 12.1680 - mae: 12.1680\n",
            "Epoch 42/500\n",
            "2/2 [==============================] - 0s 4ms/step - loss: 21.3603 - mae: 21.3603\n",
            "Epoch 43/500\n",
            "2/2 [==============================] - 0s 4ms/step - loss: 12.3744 - mae: 12.3744\n",
            "Epoch 44/500\n",
            "2/2 [==============================] - 0s 4ms/step - loss: 11.8896 - mae: 11.8896\n",
            "Epoch 45/500\n",
            "2/2 [==============================] - 0s 4ms/step - loss: 20.1811 - mae: 20.1811\n",
            "Epoch 46/500\n",
            "2/2 [==============================] - 0s 4ms/step - loss: 13.3808 - mae: 13.3808\n",
            "Epoch 47/500\n",
            "2/2 [==============================] - 0s 4ms/step - loss: 13.1224 - mae: 13.1224\n",
            "Epoch 48/500\n",
            "2/2 [==============================] - 0s 4ms/step - loss: 9.7303 - mae: 9.7303\n",
            "Epoch 49/500\n",
            "2/2 [==============================] - 0s 4ms/step - loss: 15.2779 - mae: 15.2779\n",
            "Epoch 50/500\n",
            "2/2 [==============================] - 0s 4ms/step - loss: 9.9712 - mae: 9.9712\n",
            "Epoch 51/500\n",
            "2/2 [==============================] - 0s 6ms/step - loss: 11.8285 - mae: 11.8285\n",
            "Epoch 52/500\n",
            "2/2 [==============================] - 0s 4ms/step - loss: 13.1968 - mae: 13.1968\n",
            "Epoch 53/500\n",
            "2/2 [==============================] - 0s 4ms/step - loss: 28.8308 - mae: 28.8308\n",
            "Epoch 54/500\n",
            "2/2 [==============================] - 0s 4ms/step - loss: 10.0667 - mae: 10.0667\n",
            "Epoch 55/500\n",
            "2/2 [==============================] - 0s 4ms/step - loss: 9.9311 - mae: 9.9311\n",
            "Epoch 56/500\n",
            "2/2 [==============================] - 0s 4ms/step - loss: 13.4643 - mae: 13.4643\n",
            "Epoch 57/500\n",
            "2/2 [==============================] - 0s 4ms/step - loss: 10.9051 - mae: 10.9051\n",
            "Epoch 58/500\n",
            "2/2 [==============================] - 0s 4ms/step - loss: 11.2971 - mae: 11.2971\n",
            "Epoch 59/500\n",
            "2/2 [==============================] - 0s 4ms/step - loss: 24.4138 - mae: 24.4138\n",
            "Epoch 60/500\n",
            "2/2 [==============================] - 0s 4ms/step - loss: 9.2431 - mae: 9.2431\n",
            "Epoch 61/500\n",
            "2/2 [==============================] - 0s 7ms/step - loss: 12.5268 - mae: 12.5268\n",
            "Epoch 62/500\n",
            "2/2 [==============================] - 0s 9ms/step - loss: 15.7073 - mae: 15.7073\n",
            "Epoch 63/500\n",
            "2/2 [==============================] - 0s 4ms/step - loss: 12.2358 - mae: 12.2358\n",
            "Epoch 64/500\n",
            "2/2 [==============================] - 0s 6ms/step - loss: 21.5031 - mae: 21.5031\n",
            "Epoch 65/500\n",
            "2/2 [==============================] - 0s 4ms/step - loss: 18.7674 - mae: 18.7674\n",
            "Epoch 66/500\n",
            "2/2 [==============================] - 0s 7ms/step - loss: 11.9444 - mae: 11.9444\n",
            "Epoch 67/500\n",
            "2/2 [==============================] - 0s 11ms/step - loss: 20.5757 - mae: 20.5757\n",
            "Epoch 68/500\n",
            "2/2 [==============================] - 0s 10ms/step - loss: 9.4356 - mae: 9.4356\n",
            "Epoch 69/500\n",
            "2/2 [==============================] - 0s 16ms/step - loss: 12.4944 - mae: 12.4944\n",
            "Epoch 70/500\n",
            "2/2 [==============================] - 0s 7ms/step - loss: 15.0596 - mae: 15.0596\n",
            "Epoch 71/500\n",
            "2/2 [==============================] - 0s 9ms/step - loss: 13.7754 - mae: 13.7754\n",
            "Epoch 72/500\n",
            "2/2 [==============================] - 0s 7ms/step - loss: 28.1663 - mae: 28.1663\n",
            "Epoch 73/500\n",
            "2/2 [==============================] - 0s 4ms/step - loss: 8.7168 - mae: 8.7168\n",
            "Epoch 74/500\n",
            "2/2 [==============================] - 0s 5ms/step - loss: 14.0106 - mae: 14.0106\n",
            "Epoch 75/500\n",
            "2/2 [==============================] - 0s 7ms/step - loss: 14.5521 - mae: 14.5521\n",
            "Epoch 76/500\n",
            "2/2 [==============================] - 0s 8ms/step - loss: 25.1460 - mae: 25.1460\n",
            "Epoch 77/500\n",
            "2/2 [==============================] - 0s 6ms/step - loss: 18.6948 - mae: 18.6948\n",
            "Epoch 78/500\n",
            "2/2 [==============================] - 0s 8ms/step - loss: 16.5691 - mae: 16.5691\n",
            "Epoch 79/500\n",
            "2/2 [==============================] - 0s 6ms/step - loss: 14.0028 - mae: 14.0028\n",
            "Epoch 80/500\n",
            "2/2 [==============================] - 0s 4ms/step - loss: 20.9776 - mae: 20.9776\n",
            "Epoch 81/500\n",
            "2/2 [==============================] - 0s 5ms/step - loss: 25.3530 - mae: 25.3530\n",
            "Epoch 82/500\n",
            "2/2 [==============================] - 0s 7ms/step - loss: 24.2573 - mae: 24.2573\n",
            "Epoch 83/500\n",
            "2/2 [==============================] - 0s 10ms/step - loss: 13.1707 - mae: 13.1707\n",
            "Epoch 84/500\n",
            "2/2 [==============================] - 0s 10ms/step - loss: 23.7393 - mae: 23.7393\n",
            "Epoch 85/500\n",
            "2/2 [==============================] - 0s 7ms/step - loss: 15.7403 - mae: 15.7403\n",
            "Epoch 86/500\n",
            "2/2 [==============================] - 0s 6ms/step - loss: 9.8843 - mae: 9.8843\n",
            "Epoch 87/500\n",
            "2/2 [==============================] - 0s 8ms/step - loss: 9.0299 - mae: 9.0299\n",
            "Epoch 88/500\n",
            "2/2 [==============================] - 0s 11ms/step - loss: 21.7202 - mae: 21.7202\n",
            "Epoch 89/500\n",
            "2/2 [==============================] - 0s 3ms/step - loss: 10.7572 - mae: 10.7572\n",
            "Epoch 90/500\n",
            "2/2 [==============================] - 0s 5ms/step - loss: 25.6694 - mae: 25.6694\n",
            "Epoch 91/500\n",
            "2/2 [==============================] - 0s 8ms/step - loss: 10.9860 - mae: 10.9860\n",
            "Epoch 92/500\n",
            "2/2 [==============================] - 0s 4ms/step - loss: 22.2780 - mae: 22.2780\n",
            "Epoch 93/500\n",
            "2/2 [==============================] - 0s 5ms/step - loss: 20.3924 - mae: 20.3924\n",
            "Epoch 94/500\n",
            "2/2 [==============================] - 0s 5ms/step - loss: 8.8722 - mae: 8.8722\n",
            "Epoch 95/500\n",
            "2/2 [==============================] - 0s 7ms/step - loss: 36.5047 - mae: 36.5047\n",
            "Epoch 96/500\n",
            "2/2 [==============================] - 0s 5ms/step - loss: 21.6314 - mae: 21.6314\n",
            "Epoch 97/500\n",
            "2/2 [==============================] - 0s 4ms/step - loss: 13.1268 - mae: 13.1268\n",
            "Epoch 98/500\n",
            "2/2 [==============================] - 0s 5ms/step - loss: 21.5424 - mae: 21.5424\n",
            "Epoch 99/500\n",
            "2/2 [==============================] - 0s 4ms/step - loss: 23.4525 - mae: 23.4525\n",
            "Epoch 100/500\n",
            "2/2 [==============================] - 0s 6ms/step - loss: 7.1689 - mae: 7.1689\n",
            "Epoch 101/500\n",
            "2/2 [==============================] - 0s 5ms/step - loss: 12.4404 - mae: 12.4404\n",
            "Epoch 102/500\n",
            "2/2 [==============================] - 0s 16ms/step - loss: 11.7462 - mae: 11.7462\n",
            "Epoch 103/500\n",
            "2/2 [==============================] - 0s 7ms/step - loss: 15.8173 - mae: 15.8173\n",
            "Epoch 104/500\n",
            "2/2 [==============================] - 0s 13ms/step - loss: 8.4022 - mae: 8.4022\n",
            "Epoch 105/500\n",
            "2/2 [==============================] - 0s 4ms/step - loss: 15.0942 - mae: 15.0942\n",
            "Epoch 106/500\n",
            "2/2 [==============================] - 0s 5ms/step - loss: 11.7386 - mae: 11.7386\n",
            "Epoch 107/500\n",
            "2/2 [==============================] - 0s 5ms/step - loss: 24.8121 - mae: 24.8121\n",
            "Epoch 108/500\n",
            "2/2 [==============================] - 0s 6ms/step - loss: 21.2180 - mae: 21.2180\n",
            "Epoch 109/500\n",
            "2/2 [==============================] - 0s 5ms/step - loss: 9.6961 - mae: 9.6961\n",
            "Epoch 110/500\n",
            "2/2 [==============================] - 0s 6ms/step - loss: 11.0506 - mae: 11.0506\n",
            "Epoch 111/500\n",
            "2/2 [==============================] - 0s 5ms/step - loss: 18.6616 - mae: 18.6616\n",
            "Epoch 112/500\n",
            "2/2 [==============================] - 0s 4ms/step - loss: 6.5427 - mae: 6.5427\n",
            "Epoch 113/500\n",
            "2/2 [==============================] - 0s 4ms/step - loss: 28.1888 - mae: 28.1888\n",
            "Epoch 114/500\n",
            "2/2 [==============================] - 0s 15ms/step - loss: 9.8804 - mae: 9.8804\n",
            "Epoch 115/500\n",
            "2/2 [==============================] - 0s 8ms/step - loss: 8.4366 - mae: 8.4366\n",
            "Epoch 116/500\n",
            "2/2 [==============================] - 0s 8ms/step - loss: 22.1345 - mae: 22.1345\n",
            "Epoch 117/500\n",
            "2/2 [==============================] - 0s 6ms/step - loss: 15.9798 - mae: 15.9798\n",
            "Epoch 118/500\n",
            "2/2 [==============================] - 0s 7ms/step - loss: 10.5374 - mae: 10.5374\n",
            "Epoch 119/500\n",
            "2/2 [==============================] - 0s 4ms/step - loss: 26.2154 - mae: 26.2154\n",
            "Epoch 120/500\n",
            "2/2 [==============================] - 0s 8ms/step - loss: 15.0735 - mae: 15.0735\n",
            "Epoch 121/500\n",
            "2/2 [==============================] - 0s 6ms/step - loss: 8.8675 - mae: 8.8675\n",
            "Epoch 122/500\n",
            "2/2 [==============================] - 0s 6ms/step - loss: 21.4856 - mae: 21.4856\n",
            "Epoch 123/500\n",
            "2/2 [==============================] - 0s 9ms/step - loss: 6.3284 - mae: 6.3284\n",
            "Epoch 124/500\n",
            "2/2 [==============================] - 0s 7ms/step - loss: 25.1131 - mae: 25.1131\n",
            "Epoch 125/500\n",
            "2/2 [==============================] - 0s 7ms/step - loss: 13.7330 - mae: 13.7330\n",
            "Epoch 126/500\n",
            "2/2 [==============================] - 0s 4ms/step - loss: 10.4714 - mae: 10.4714\n",
            "Epoch 127/500\n",
            "2/2 [==============================] - 0s 8ms/step - loss: 31.6525 - mae: 31.6525\n",
            "Epoch 128/500\n",
            "2/2 [==============================] - 0s 3ms/step - loss: 11.7088 - mae: 11.7088\n",
            "Epoch 129/500\n",
            "2/2 [==============================] - 0s 4ms/step - loss: 17.1850 - mae: 17.1850\n",
            "Epoch 130/500\n",
            "2/2 [==============================] - 0s 4ms/step - loss: 11.9650 - mae: 11.9650\n",
            "Epoch 131/500\n",
            "2/2 [==============================] - 0s 12ms/step - loss: 11.6329 - mae: 11.6329\n",
            "Epoch 132/500\n",
            "2/2 [==============================] - 0s 4ms/step - loss: 14.8253 - mae: 14.8253\n",
            "Epoch 133/500\n",
            "2/2 [==============================] - 0s 4ms/step - loss: 19.5351 - mae: 19.5351\n",
            "Epoch 134/500\n",
            "2/2 [==============================] - 0s 6ms/step - loss: 24.6903 - mae: 24.6903\n",
            "Epoch 135/500\n",
            "2/2 [==============================] - 0s 4ms/step - loss: 16.1055 - mae: 16.1055\n",
            "Epoch 136/500\n",
            "2/2 [==============================] - 0s 4ms/step - loss: 7.4778 - mae: 7.4778\n",
            "Epoch 137/500\n",
            "2/2 [==============================] - 0s 7ms/step - loss: 12.8119 - mae: 12.8119\n",
            "Epoch 138/500\n",
            "2/2 [==============================] - 0s 6ms/step - loss: 8.6383 - mae: 8.6383\n",
            "Epoch 139/500\n",
            "2/2 [==============================] - 0s 5ms/step - loss: 8.9828 - mae: 8.9828\n",
            "Epoch 140/500\n",
            "2/2 [==============================] - 0s 4ms/step - loss: 10.2561 - mae: 10.2561\n",
            "Epoch 141/500\n",
            "2/2 [==============================] - 0s 4ms/step - loss: 14.9893 - mae: 14.9893\n",
            "Epoch 142/500\n",
            "2/2 [==============================] - 0s 11ms/step - loss: 10.0172 - mae: 10.0172\n",
            "Epoch 143/500\n",
            "2/2 [==============================] - 0s 4ms/step - loss: 26.9953 - mae: 26.9953\n",
            "Epoch 144/500\n",
            "2/2 [==============================] - 0s 6ms/step - loss: 10.1659 - mae: 10.1659\n",
            "Epoch 145/500\n",
            "2/2 [==============================] - 0s 6ms/step - loss: 12.9169 - mae: 12.9169\n",
            "Epoch 146/500\n",
            "2/2 [==============================] - 0s 4ms/step - loss: 21.0048 - mae: 21.0048\n",
            "Epoch 147/500\n",
            "2/2 [==============================] - 0s 7ms/step - loss: 11.2663 - mae: 11.2663\n",
            "Epoch 148/500\n",
            "2/2 [==============================] - 0s 3ms/step - loss: 8.3611 - mae: 8.3611\n",
            "Epoch 149/500\n",
            "2/2 [==============================] - 0s 6ms/step - loss: 15.5835 - mae: 15.5835\n",
            "Epoch 150/500\n",
            "2/2 [==============================] - 0s 5ms/step - loss: 8.0732 - mae: 8.0732\n",
            "Epoch 151/500\n",
            "2/2 [==============================] - 0s 3ms/step - loss: 7.8758 - mae: 7.8758\n",
            "Epoch 152/500\n",
            "2/2 [==============================] - 0s 7ms/step - loss: 9.6362 - mae: 9.6362\n",
            "Epoch 153/500\n",
            "2/2 [==============================] - 0s 3ms/step - loss: 28.5049 - mae: 28.5049\n",
            "Epoch 154/500\n",
            "2/2 [==============================] - 0s 9ms/step - loss: 10.4370 - mae: 10.4370\n",
            "Epoch 155/500\n",
            "2/2 [==============================] - 0s 3ms/step - loss: 16.5553 - mae: 16.5553\n",
            "Epoch 156/500\n",
            "2/2 [==============================] - 0s 5ms/step - loss: 10.0633 - mae: 10.0633\n",
            "Epoch 157/500\n",
            "2/2 [==============================] - 0s 4ms/step - loss: 17.9020 - mae: 17.9020\n",
            "Epoch 158/500\n",
            "2/2 [==============================] - 0s 4ms/step - loss: 20.5295 - mae: 20.5295\n",
            "Epoch 159/500\n",
            "2/2 [==============================] - 0s 8ms/step - loss: 13.3711 - mae: 13.3711\n",
            "Epoch 160/500\n",
            "2/2 [==============================] - 0s 12ms/step - loss: 15.3141 - mae: 15.3141\n",
            "Epoch 161/500\n",
            "2/2 [==============================] - 0s 4ms/step - loss: 21.2757 - mae: 21.2757\n",
            "Epoch 162/500\n",
            "2/2 [==============================] - 0s 5ms/step - loss: 27.1876 - mae: 27.1876\n",
            "Epoch 163/500\n",
            "2/2 [==============================] - 0s 9ms/step - loss: 13.2987 - mae: 13.2987\n",
            "Epoch 164/500\n",
            "2/2 [==============================] - 0s 5ms/step - loss: 18.0627 - mae: 18.0627\n",
            "Epoch 165/500\n",
            "2/2 [==============================] - 0s 3ms/step - loss: 13.4653 - mae: 13.4653\n",
            "Epoch 166/500\n",
            "2/2 [==============================] - 0s 3ms/step - loss: 12.8019 - mae: 12.8019\n",
            "Epoch 167/500\n",
            "2/2 [==============================] - 0s 4ms/step - loss: 25.8158 - mae: 25.8158\n",
            "Epoch 168/500\n",
            "2/2 [==============================] - 0s 4ms/step - loss: 9.5320 - mae: 9.5320\n",
            "Epoch 169/500\n",
            "2/2 [==============================] - 0s 4ms/step - loss: 23.4740 - mae: 23.4740\n",
            "Epoch 170/500\n",
            "2/2 [==============================] - 0s 4ms/step - loss: 5.6916 - mae: 5.6916\n",
            "Epoch 171/500\n",
            "2/2 [==============================] - 0s 4ms/step - loss: 14.5884 - mae: 14.5884\n",
            "Epoch 172/500\n",
            "2/2 [==============================] - 0s 3ms/step - loss: 15.6240 - mae: 15.6240\n",
            "Epoch 173/500\n",
            "2/2 [==============================] - 0s 4ms/step - loss: 14.5621 - mae: 14.5621\n",
            "Epoch 174/500\n",
            "2/2 [==============================] - 0s 5ms/step - loss: 23.9085 - mae: 23.9085\n",
            "Epoch 175/500\n",
            "2/2 [==============================] - 0s 16ms/step - loss: 21.6496 - mae: 21.6496\n",
            "Epoch 176/500\n",
            "2/2 [==============================] - 0s 4ms/step - loss: 12.7731 - mae: 12.7731\n",
            "Epoch 177/500\n",
            "2/2 [==============================] - 0s 7ms/step - loss: 25.6010 - mae: 25.6010\n",
            "Epoch 178/500\n",
            "2/2 [==============================] - 0s 5ms/step - loss: 14.6747 - mae: 14.6747\n",
            "Epoch 179/500\n",
            "2/2 [==============================] - 0s 7ms/step - loss: 10.7209 - mae: 10.7209\n",
            "Epoch 180/500\n",
            "2/2 [==============================] - 0s 4ms/step - loss: 17.1597 - mae: 17.1597\n",
            "Epoch 181/500\n",
            "2/2 [==============================] - 0s 6ms/step - loss: 8.6281 - mae: 8.6281\n",
            "Epoch 182/500\n",
            "2/2 [==============================] - 0s 5ms/step - loss: 9.3705 - mae: 9.3705\n",
            "Epoch 183/500\n",
            "2/2 [==============================] - 0s 8ms/step - loss: 22.5937 - mae: 22.5937\n",
            "Epoch 184/500\n",
            "2/2 [==============================] - 0s 3ms/step - loss: 21.3517 - mae: 21.3517\n",
            "Epoch 185/500\n",
            "2/2 [==============================] - 0s 6ms/step - loss: 7.9816 - mae: 7.9816\n",
            "Epoch 186/500\n",
            "2/2 [==============================] - 0s 6ms/step - loss: 27.5337 - mae: 27.5337\n",
            "Epoch 187/500\n",
            "2/2 [==============================] - 0s 7ms/step - loss: 11.2037 - mae: 11.2037\n",
            "Epoch 188/500\n",
            "2/2 [==============================] - 0s 3ms/step - loss: 10.8325 - mae: 10.8325\n",
            "Epoch 189/500\n",
            "2/2 [==============================] - 0s 7ms/step - loss: 15.5805 - mae: 15.5805\n",
            "Epoch 190/500\n",
            "2/2 [==============================] - 0s 8ms/step - loss: 13.0741 - mae: 13.0741\n",
            "Epoch 191/500\n",
            "2/2 [==============================] - 0s 5ms/step - loss: 8.9558 - mae: 8.9558\n",
            "Epoch 192/500\n",
            "2/2 [==============================] - 0s 3ms/step - loss: 16.5298 - mae: 16.5298\n",
            "Epoch 193/500\n",
            "2/2 [==============================] - 0s 6ms/step - loss: 13.7338 - mae: 13.7338\n",
            "Epoch 194/500\n",
            "2/2 [==============================] - 0s 4ms/step - loss: 24.2485 - mae: 24.2485\n",
            "Epoch 195/500\n",
            "2/2 [==============================] - 0s 4ms/step - loss: 19.9000 - mae: 19.9000\n",
            "Epoch 196/500\n",
            "2/2 [==============================] - 0s 7ms/step - loss: 12.6823 - mae: 12.6823\n",
            "Epoch 197/500\n",
            "2/2 [==============================] - 0s 5ms/step - loss: 17.3854 - mae: 17.3854\n",
            "Epoch 198/500\n",
            "2/2 [==============================] - 0s 5ms/step - loss: 12.9028 - mae: 12.9028\n",
            "Epoch 199/500\n",
            "2/2 [==============================] - 0s 4ms/step - loss: 9.1848 - mae: 9.1848\n",
            "Epoch 200/500\n",
            "2/2 [==============================] - 0s 5ms/step - loss: 18.3123 - mae: 18.3123\n",
            "Epoch 201/500\n",
            "2/2 [==============================] - 0s 5ms/step - loss: 21.7059 - mae: 21.7059\n",
            "Epoch 202/500\n",
            "2/2 [==============================] - 0s 6ms/step - loss: 16.2557 - mae: 16.2557\n",
            "Epoch 203/500\n",
            "2/2 [==============================] - 0s 6ms/step - loss: 8.0805 - mae: 8.0805\n",
            "Epoch 204/500\n",
            "2/2 [==============================] - 0s 6ms/step - loss: 22.9874 - mae: 22.9874\n",
            "Epoch 205/500\n",
            "2/2 [==============================] - 0s 6ms/step - loss: 5.3234 - mae: 5.3234\n",
            "Epoch 206/500\n",
            "2/2 [==============================] - 0s 5ms/step - loss: 8.7094 - mae: 8.7094\n",
            "Epoch 207/500\n",
            "2/2 [==============================] - 0s 4ms/step - loss: 12.8144 - mae: 12.8144\n",
            "Epoch 208/500\n",
            "2/2 [==============================] - 0s 7ms/step - loss: 10.7070 - mae: 10.7070\n",
            "Epoch 209/500\n",
            "2/2 [==============================] - 0s 13ms/step - loss: 12.9190 - mae: 12.9190\n",
            "Epoch 210/500\n",
            "2/2 [==============================] - 0s 3ms/step - loss: 18.6974 - mae: 18.6974\n",
            "Epoch 211/500\n",
            "2/2 [==============================] - 0s 5ms/step - loss: 7.0951 - mae: 7.0951\n",
            "Epoch 212/500\n",
            "2/2 [==============================] - 0s 6ms/step - loss: 24.9938 - mae: 24.9938\n",
            "Epoch 213/500\n",
            "2/2 [==============================] - 0s 4ms/step - loss: 13.2889 - mae: 13.2889\n",
            "Epoch 214/500\n",
            "2/2 [==============================] - 0s 7ms/step - loss: 7.9750 - mae: 7.9750\n",
            "Epoch 215/500\n",
            "2/2 [==============================] - 0s 16ms/step - loss: 29.9645 - mae: 29.9645\n",
            "Epoch 216/500\n",
            "2/2 [==============================] - 0s 10ms/step - loss: 16.0528 - mae: 16.0528\n",
            "Epoch 217/500\n",
            "2/2 [==============================] - 0s 4ms/step - loss: 10.2029 - mae: 10.2029\n",
            "Epoch 218/500\n",
            "2/2 [==============================] - 0s 7ms/step - loss: 22.5338 - mae: 22.5338\n",
            "Epoch 219/500\n",
            "2/2 [==============================] - 0s 4ms/step - loss: 20.1272 - mae: 20.1272\n",
            "Epoch 220/500\n",
            "2/2 [==============================] - 0s 5ms/step - loss: 8.0211 - mae: 8.0211\n",
            "Epoch 221/500\n",
            "2/2 [==============================] - 0s 16ms/step - loss: 22.7213 - mae: 22.7213\n",
            "Epoch 222/500\n",
            "2/2 [==============================] - 0s 5ms/step - loss: 20.1669 - mae: 20.1669\n",
            "Epoch 223/500\n",
            "2/2 [==============================] - 0s 7ms/step - loss: 6.4316 - mae: 6.4316\n",
            "Epoch 224/500\n",
            "2/2 [==============================] - 0s 11ms/step - loss: 20.6874 - mae: 20.6874\n",
            "Epoch 225/500\n",
            "2/2 [==============================] - 0s 3ms/step - loss: 25.6931 - mae: 25.6931\n",
            "Epoch 226/500\n",
            "2/2 [==============================] - 0s 7ms/step - loss: 27.3610 - mae: 27.3610\n",
            "Epoch 227/500\n",
            "2/2 [==============================] - 0s 6ms/step - loss: 14.7620 - mae: 14.7620\n",
            "Epoch 228/500\n",
            "2/2 [==============================] - 0s 5ms/step - loss: 15.5802 - mae: 15.5802\n",
            "Epoch 229/500\n",
            "2/2 [==============================] - 0s 5ms/step - loss: 13.3613 - mae: 13.3613\n",
            "Epoch 230/500\n",
            "2/2 [==============================] - 0s 8ms/step - loss: 23.5937 - mae: 23.5937\n",
            "Epoch 231/500\n",
            "2/2 [==============================] - 0s 3ms/step - loss: 19.9098 - mae: 19.9098\n",
            "Epoch 232/500\n",
            "2/2 [==============================] - 0s 7ms/step - loss: 8.1783 - mae: 8.1783\n",
            "Epoch 233/500\n",
            "2/2 [==============================] - 0s 5ms/step - loss: 19.2390 - mae: 19.2390\n",
            "Epoch 234/500\n",
            "2/2 [==============================] - 0s 7ms/step - loss: 12.3148 - mae: 12.3148\n",
            "Epoch 235/500\n",
            "2/2 [==============================] - 0s 4ms/step - loss: 20.2983 - mae: 20.2983\n",
            "Epoch 236/500\n",
            "2/2 [==============================] - 0s 17ms/step - loss: 32.9119 - mae: 32.9119\n",
            "Epoch 237/500\n",
            "2/2 [==============================] - 0s 12ms/step - loss: 27.0906 - mae: 27.0906\n",
            "Epoch 238/500\n",
            "2/2 [==============================] - 0s 7ms/step - loss: 10.1700 - mae: 10.1700\n",
            "Epoch 239/500\n",
            "2/2 [==============================] - 0s 6ms/step - loss: 24.1964 - mae: 24.1964\n",
            "Epoch 240/500\n",
            "2/2 [==============================] - 0s 9ms/step - loss: 8.0217 - mae: 8.0217\n",
            "Epoch 241/500\n",
            "2/2 [==============================] - 0s 7ms/step - loss: 22.9153 - mae: 22.9153\n",
            "Epoch 242/500\n",
            "2/2 [==============================] - 0s 26ms/step - loss: 8.6678 - mae: 8.6678\n",
            "Epoch 243/500\n",
            "2/2 [==============================] - 0s 7ms/step - loss: 8.2533 - mae: 8.2533\n",
            "Epoch 244/500\n",
            "2/2 [==============================] - 0s 6ms/step - loss: 43.7825 - mae: 43.7825\n",
            "Epoch 245/500\n",
            "2/2 [==============================] - 0s 6ms/step - loss: 8.8000 - mae: 8.8000\n",
            "Epoch 246/500\n",
            "2/2 [==============================] - 0s 4ms/step - loss: 23.2897 - mae: 23.2897\n",
            "Epoch 247/500\n",
            "2/2 [==============================] - 0s 5ms/step - loss: 19.4274 - mae: 19.4274\n",
            "Epoch 248/500\n",
            "2/2 [==============================] - 0s 4ms/step - loss: 5.7872 - mae: 5.7872\n",
            "Epoch 249/500\n",
            "2/2 [==============================] - 0s 9ms/step - loss: 16.7146 - mae: 16.7146\n",
            "Epoch 250/500\n",
            "2/2 [==============================] - 0s 7ms/step - loss: 16.9594 - mae: 16.9594\n",
            "Epoch 251/500\n",
            "2/2 [==============================] - 0s 12ms/step - loss: 15.2703 - mae: 15.2703\n",
            "Epoch 252/500\n",
            "2/2 [==============================] - 0s 5ms/step - loss: 17.6677 - mae: 17.6677\n",
            "Epoch 253/500\n",
            "2/2 [==============================] - 0s 3ms/step - loss: 31.7840 - mae: 31.7840\n",
            "Epoch 254/500\n",
            "2/2 [==============================] - 0s 6ms/step - loss: 5.4528 - mae: 5.4528\n",
            "Epoch 255/500\n",
            "2/2 [==============================] - 0s 7ms/step - loss: 24.9771 - mae: 24.9771\n",
            "Epoch 256/500\n",
            "2/2 [==============================] - 0s 5ms/step - loss: 8.9693 - mae: 8.9693\n",
            "Epoch 257/500\n",
            "2/2 [==============================] - 0s 5ms/step - loss: 24.1981 - mae: 24.1981\n",
            "Epoch 258/500\n",
            "2/2 [==============================] - 0s 4ms/step - loss: 18.8066 - mae: 18.8066\n",
            "Epoch 259/500\n",
            "2/2 [==============================] - 0s 4ms/step - loss: 9.4251 - mae: 9.4251\n",
            "Epoch 260/500\n",
            "2/2 [==============================] - 0s 3ms/step - loss: 17.3543 - mae: 17.3543\n",
            "Epoch 261/500\n",
            "2/2 [==============================] - 0s 3ms/step - loss: 8.8681 - mae: 8.8681\n",
            "Epoch 262/500\n",
            "2/2 [==============================] - 0s 4ms/step - loss: 10.6436 - mae: 10.6436\n",
            "Epoch 263/500\n",
            "2/2 [==============================] - 0s 3ms/step - loss: 21.2575 - mae: 21.2575\n",
            "Epoch 264/500\n",
            "2/2 [==============================] - 0s 3ms/step - loss: 11.6926 - mae: 11.6926\n",
            "Epoch 265/500\n",
            "2/2 [==============================] - 0s 3ms/step - loss: 27.5389 - mae: 27.5389\n",
            "Epoch 266/500\n",
            "2/2 [==============================] - 0s 4ms/step - loss: 10.0275 - mae: 10.0275\n",
            "Epoch 267/500\n",
            "2/2 [==============================] - 0s 9ms/step - loss: 18.1908 - mae: 18.1908\n",
            "Epoch 268/500\n",
            "2/2 [==============================] - 0s 3ms/step - loss: 8.2322 - mae: 8.2322\n",
            "Epoch 269/500\n",
            "2/2 [==============================] - 0s 3ms/step - loss: 12.9317 - mae: 12.9317\n",
            "Epoch 270/500\n",
            "2/2 [==============================] - 0s 3ms/step - loss: 6.4490 - mae: 6.4490\n",
            "Epoch 271/500\n",
            "2/2 [==============================] - 0s 3ms/step - loss: 30.7296 - mae: 30.7296\n",
            "Epoch 272/500\n",
            "2/2 [==============================] - 0s 4ms/step - loss: 10.5287 - mae: 10.5287\n",
            "Epoch 273/500\n",
            "2/2 [==============================] - 0s 3ms/step - loss: 21.4459 - mae: 21.4459\n",
            "Epoch 274/500\n",
            "2/2 [==============================] - 0s 3ms/step - loss: 7.8519 - mae: 7.8519\n",
            "Epoch 275/500\n",
            "2/2 [==============================] - 0s 3ms/step - loss: 15.1738 - mae: 15.1738\n",
            "Epoch 276/500\n",
            "2/2 [==============================] - 0s 5ms/step - loss: 14.4165 - mae: 14.4165\n",
            "Epoch 277/500\n",
            "2/2 [==============================] - 0s 4ms/step - loss: 28.2943 - mae: 28.2943\n",
            "Epoch 278/500\n",
            "2/2 [==============================] - 0s 5ms/step - loss: 8.3391 - mae: 8.3391\n",
            "Epoch 279/500\n",
            "2/2 [==============================] - 0s 4ms/step - loss: 17.9534 - mae: 17.9534\n",
            "Epoch 280/500\n",
            "2/2 [==============================] - 0s 4ms/step - loss: 7.9630 - mae: 7.9630\n",
            "Epoch 281/500\n",
            "2/2 [==============================] - 0s 4ms/step - loss: 9.8339 - mae: 9.8339\n",
            "Epoch 282/500\n",
            "2/2 [==============================] - 0s 4ms/step - loss: 9.2726 - mae: 9.2726\n",
            "Epoch 283/500\n",
            "2/2 [==============================] - 0s 4ms/step - loss: 20.9203 - mae: 20.9203\n",
            "Epoch 284/500\n",
            "2/2 [==============================] - 0s 3ms/step - loss: 10.1553 - mae: 10.1553\n",
            "Epoch 285/500\n",
            "2/2 [==============================] - 0s 3ms/step - loss: 12.5983 - mae: 12.5983\n",
            "Epoch 286/500\n",
            "2/2 [==============================] - 0s 4ms/step - loss: 13.3245 - mae: 13.3245\n",
            "Epoch 287/500\n",
            "2/2 [==============================] - 0s 4ms/step - loss: 16.4298 - mae: 16.4298\n",
            "Epoch 288/500\n",
            "2/2 [==============================] - 0s 3ms/step - loss: 12.0935 - mae: 12.0935\n",
            "Epoch 289/500\n",
            "2/2 [==============================] - 0s 4ms/step - loss: 13.6108 - mae: 13.6108\n",
            "Epoch 290/500\n",
            "2/2 [==============================] - 0s 11ms/step - loss: 29.3967 - mae: 29.3967\n",
            "Epoch 291/500\n",
            "2/2 [==============================] - 0s 5ms/step - loss: 10.1311 - mae: 10.1311\n",
            "Epoch 292/500\n",
            "2/2 [==============================] - 0s 4ms/step - loss: 6.5282 - mae: 6.5282\n",
            "Epoch 293/500\n",
            "2/2 [==============================] - 0s 6ms/step - loss: 15.8911 - mae: 15.8911\n",
            "Epoch 294/500\n",
            "2/2 [==============================] - 0s 16ms/step - loss: 11.0584 - mae: 11.0584\n",
            "Epoch 295/500\n",
            "2/2 [==============================] - 0s 6ms/step - loss: 6.9992 - mae: 6.9992\n",
            "Epoch 296/500\n",
            "2/2 [==============================] - 0s 5ms/step - loss: 8.6742 - mae: 8.6742\n",
            "Epoch 297/500\n",
            "2/2 [==============================] - 0s 4ms/step - loss: 19.3935 - mae: 19.3935\n",
            "Epoch 298/500\n",
            "2/2 [==============================] - 0s 4ms/step - loss: 4.6019 - mae: 4.6019\n",
            "Epoch 299/500\n",
            "2/2 [==============================] - 0s 3ms/step - loss: 16.2370 - mae: 16.2370\n",
            "Epoch 300/500\n",
            "2/2 [==============================] - 0s 5ms/step - loss: 15.7897 - mae: 15.7897\n",
            "Epoch 301/500\n",
            "2/2 [==============================] - 0s 6ms/step - loss: 15.5428 - mae: 15.5428\n",
            "Epoch 302/500\n",
            "2/2 [==============================] - 0s 4ms/step - loss: 13.4109 - mae: 13.4109\n",
            "Epoch 303/500\n",
            "2/2 [==============================] - 0s 3ms/step - loss: 13.2928 - mae: 13.2928\n",
            "Epoch 304/500\n",
            "2/2 [==============================] - 0s 5ms/step - loss: 30.1246 - mae: 30.1246\n",
            "Epoch 305/500\n",
            "2/2 [==============================] - 0s 5ms/step - loss: 10.2324 - mae: 10.2324\n",
            "Epoch 306/500\n",
            "2/2 [==============================] - 0s 5ms/step - loss: 32.5215 - mae: 32.5215\n",
            "Epoch 307/500\n",
            "2/2 [==============================] - 0s 14ms/step - loss: 11.8480 - mae: 11.8480\n",
            "Epoch 308/500\n",
            "2/2 [==============================] - 0s 5ms/step - loss: 14.6157 - mae: 14.6157\n",
            "Epoch 309/500\n",
            "2/2 [==============================] - 0s 4ms/step - loss: 15.8504 - mae: 15.8504\n",
            "Epoch 310/500\n",
            "2/2 [==============================] - 0s 4ms/step - loss: 16.0332 - mae: 16.0332\n",
            "Epoch 311/500\n",
            "2/2 [==============================] - 0s 4ms/step - loss: 12.8064 - mae: 12.8064\n",
            "Epoch 312/500\n",
            "2/2 [==============================] - 0s 6ms/step - loss: 29.1252 - mae: 29.1252\n",
            "Epoch 313/500\n",
            "2/2 [==============================] - 0s 4ms/step - loss: 6.7205 - mae: 6.7205\n",
            "Epoch 314/500\n",
            "2/2 [==============================] - 0s 3ms/step - loss: 15.9048 - mae: 15.9048\n",
            "Epoch 315/500\n",
            "2/2 [==============================] - 0s 5ms/step - loss: 14.9625 - mae: 14.9625\n",
            "Epoch 316/500\n",
            "2/2 [==============================] - 0s 4ms/step - loss: 18.9393 - mae: 18.9393\n",
            "Epoch 317/500\n",
            "2/2 [==============================] - 0s 3ms/step - loss: 12.1066 - mae: 12.1066\n",
            "Epoch 318/500\n",
            "2/2 [==============================] - 0s 4ms/step - loss: 18.5754 - mae: 18.5754\n",
            "Epoch 319/500\n",
            "2/2 [==============================] - 0s 4ms/step - loss: 5.5560 - mae: 5.5560\n",
            "Epoch 320/500\n",
            "2/2 [==============================] - 0s 3ms/step - loss: 10.0971 - mae: 10.0971\n",
            "Epoch 321/500\n",
            "2/2 [==============================] - 0s 4ms/step - loss: 18.8528 - mae: 18.8528\n",
            "Epoch 322/500\n",
            "2/2 [==============================] - 0s 3ms/step - loss: 21.1973 - mae: 21.1973\n",
            "Epoch 323/500\n",
            "2/2 [==============================] - 0s 4ms/step - loss: 9.2425 - mae: 9.2425\n",
            "Epoch 324/500\n",
            "2/2 [==============================] - 0s 3ms/step - loss: 19.3827 - mae: 19.3827\n",
            "Epoch 325/500\n",
            "2/2 [==============================] - 0s 5ms/step - loss: 21.1494 - mae: 21.1494\n",
            "Epoch 326/500\n",
            "2/2 [==============================] - 0s 4ms/step - loss: 17.1738 - mae: 17.1738\n",
            "Epoch 327/500\n",
            "2/2 [==============================] - 0s 3ms/step - loss: 11.8829 - mae: 11.8829\n",
            "Epoch 328/500\n",
            "2/2 [==============================] - 0s 4ms/step - loss: 20.4710 - mae: 20.4710\n",
            "Epoch 329/500\n",
            "2/2 [==============================] - 0s 19ms/step - loss: 12.3251 - mae: 12.3251\n",
            "Epoch 330/500\n",
            "2/2 [==============================] - 0s 5ms/step - loss: 29.7293 - mae: 29.7293\n",
            "Epoch 331/500\n",
            "2/2 [==============================] - 0s 3ms/step - loss: 5.4400 - mae: 5.4400\n",
            "Epoch 332/500\n",
            "2/2 [==============================] - 0s 3ms/step - loss: 12.0940 - mae: 12.0940\n",
            "Epoch 333/500\n",
            "2/2 [==============================] - 0s 4ms/step - loss: 21.8336 - mae: 21.8336\n",
            "Epoch 334/500\n",
            "2/2 [==============================] - 0s 4ms/step - loss: 16.9110 - mae: 16.9110\n",
            "Epoch 335/500\n",
            "2/2 [==============================] - 0s 3ms/step - loss: 6.0346 - mae: 6.0346\n",
            "Epoch 336/500\n",
            "2/2 [==============================] - 0s 5ms/step - loss: 6.4169 - mae: 6.4169\n",
            "Epoch 337/500\n",
            "2/2 [==============================] - 0s 3ms/step - loss: 18.7117 - mae: 18.7117\n",
            "Epoch 338/500\n",
            "2/2 [==============================] - 0s 3ms/step - loss: 13.4808 - mae: 13.4808\n",
            "Epoch 339/500\n",
            "2/2 [==============================] - 0s 3ms/step - loss: 20.6356 - mae: 20.6356\n",
            "Epoch 340/500\n",
            "2/2 [==============================] - 0s 3ms/step - loss: 27.9180 - mae: 27.9180\n",
            "Epoch 341/500\n",
            "2/2 [==============================] - 0s 3ms/step - loss: 12.2159 - mae: 12.2159\n",
            "Epoch 342/500\n",
            "2/2 [==============================] - 0s 3ms/step - loss: 6.3910 - mae: 6.3910\n",
            "Epoch 343/500\n",
            "2/2 [==============================] - 0s 38ms/step - loss: 17.8875 - mae: 17.8875\n",
            "Epoch 344/500\n",
            "2/2 [==============================] - 0s 11ms/step - loss: 8.8360 - mae: 8.8360\n",
            "Epoch 345/500\n",
            "2/2 [==============================] - 0s 7ms/step - loss: 12.0412 - mae: 12.0412\n",
            "Epoch 346/500\n",
            "2/2 [==============================] - 0s 9ms/step - loss: 8.2472 - mae: 8.2472\n",
            "Epoch 347/500\n",
            "2/2 [==============================] - 0s 12ms/step - loss: 15.6862 - mae: 15.6862\n",
            "Epoch 348/500\n",
            "2/2 [==============================] - 0s 8ms/step - loss: 8.6398 - mae: 8.6398\n",
            "Epoch 349/500\n",
            "2/2 [==============================] - 0s 7ms/step - loss: 18.2529 - mae: 18.2529\n",
            "Epoch 350/500\n",
            "2/2 [==============================] - 0s 13ms/step - loss: 20.3410 - mae: 20.3410\n",
            "Epoch 351/500\n",
            "2/2 [==============================] - 0s 9ms/step - loss: 11.7848 - mae: 11.7848\n",
            "Epoch 352/500\n",
            "2/2 [==============================] - 0s 4ms/step - loss: 17.9114 - mae: 17.9114\n",
            "Epoch 353/500\n",
            "2/2 [==============================] - 0s 19ms/step - loss: 18.1312 - mae: 18.1312\n",
            "Epoch 354/500\n",
            "2/2 [==============================] - 0s 3ms/step - loss: 37.5884 - mae: 37.5884\n",
            "Epoch 355/500\n",
            "2/2 [==============================] - 0s 7ms/step - loss: 25.7203 - mae: 25.7203\n",
            "Epoch 356/500\n",
            "2/2 [==============================] - 0s 6ms/step - loss: 7.3608 - mae: 7.3608\n",
            "Epoch 357/500\n",
            "2/2 [==============================] - 0s 9ms/step - loss: 15.8395 - mae: 15.8395\n",
            "Epoch 358/500\n",
            "2/2 [==============================] - 0s 7ms/step - loss: 13.6102 - mae: 13.6102\n",
            "Epoch 359/500\n",
            "2/2 [==============================] - 0s 11ms/step - loss: 12.7204 - mae: 12.7204\n",
            "Epoch 360/500\n",
            "2/2 [==============================] - 0s 4ms/step - loss: 12.2237 - mae: 12.2237\n",
            "Epoch 361/500\n",
            "2/2 [==============================] - 0s 8ms/step - loss: 26.6965 - mae: 26.6965\n",
            "Epoch 362/500\n",
            "2/2 [==============================] - 0s 14ms/step - loss: 14.0428 - mae: 14.0428\n",
            "Epoch 363/500\n",
            "2/2 [==============================] - 0s 7ms/step - loss: 9.9961 - mae: 9.9961\n",
            "Epoch 364/500\n",
            "2/2 [==============================] - 0s 13ms/step - loss: 19.9117 - mae: 19.9117\n",
            "Epoch 365/500\n",
            "2/2 [==============================] - 0s 11ms/step - loss: 27.2736 - mae: 27.2736\n",
            "Epoch 366/500\n",
            "2/2 [==============================] - 0s 12ms/step - loss: 10.5241 - mae: 10.5241\n",
            "Epoch 367/500\n",
            "2/2 [==============================] - 0s 7ms/step - loss: 18.7537 - mae: 18.7537\n",
            "Epoch 368/500\n",
            "2/2 [==============================] - 0s 3ms/step - loss: 12.9330 - mae: 12.9330\n",
            "Epoch 369/500\n",
            "2/2 [==============================] - 0s 3ms/step - loss: 21.9617 - mae: 21.9617\n",
            "Epoch 370/500\n",
            "2/2 [==============================] - 0s 7ms/step - loss: 18.6145 - mae: 18.6145\n",
            "Epoch 371/500\n",
            "2/2 [==============================] - 0s 6ms/step - loss: 12.6796 - mae: 12.6796\n",
            "Epoch 372/500\n",
            "2/2 [==============================] - 0s 3ms/step - loss: 15.7323 - mae: 15.7323\n",
            "Epoch 373/500\n",
            "2/2 [==============================] - 0s 3ms/step - loss: 21.6965 - mae: 21.6965\n",
            "Epoch 374/500\n",
            "2/2 [==============================] - 0s 4ms/step - loss: 28.4730 - mae: 28.4730\n",
            "Epoch 375/500\n",
            "2/2 [==============================] - 0s 5ms/step - loss: 8.2462 - mae: 8.2462\n",
            "Epoch 376/500\n",
            "2/2 [==============================] - 0s 4ms/step - loss: 24.8719 - mae: 24.8719\n",
            "Epoch 377/500\n",
            "2/2 [==============================] - 0s 3ms/step - loss: 19.5404 - mae: 19.5404\n",
            "Epoch 378/500\n",
            "2/2 [==============================] - 0s 14ms/step - loss: 17.6547 - mae: 17.6547\n",
            "Epoch 379/500\n",
            "2/2 [==============================] - 0s 4ms/step - loss: 5.4001 - mae: 5.4001\n",
            "Epoch 380/500\n",
            "2/2 [==============================] - 0s 4ms/step - loss: 8.4398 - mae: 8.4398\n",
            "Epoch 381/500\n",
            "2/2 [==============================] - 0s 4ms/step - loss: 10.6716 - mae: 10.6716\n",
            "Epoch 382/500\n",
            "2/2 [==============================] - 0s 5ms/step - loss: 13.7910 - mae: 13.7910\n",
            "Epoch 383/500\n",
            "2/2 [==============================] - 0s 5ms/step - loss: 10.9426 - mae: 10.9426\n",
            "Epoch 384/500\n",
            "2/2 [==============================] - 0s 15ms/step - loss: 9.7936 - mae: 9.7936\n",
            "Epoch 385/500\n",
            "2/2 [==============================] - 0s 5ms/step - loss: 22.4172 - mae: 22.4172\n",
            "Epoch 386/500\n",
            "2/2 [==============================] - 0s 7ms/step - loss: 28.1490 - mae: 28.1490\n",
            "Epoch 387/500\n",
            "2/2 [==============================] - 0s 9ms/step - loss: 8.1101 - mae: 8.1101\n",
            "Epoch 388/500\n",
            "2/2 [==============================] - 0s 8ms/step - loss: 18.1663 - mae: 18.1663\n",
            "Epoch 389/500\n",
            "2/2 [==============================] - 0s 4ms/step - loss: 19.9170 - mae: 19.9170\n",
            "Epoch 390/500\n",
            "2/2 [==============================] - 0s 8ms/step - loss: 7.3017 - mae: 7.3017\n",
            "Epoch 391/500\n",
            "2/2 [==============================] - 0s 3ms/step - loss: 14.2284 - mae: 14.2284\n",
            "Epoch 392/500\n",
            "2/2 [==============================] - 0s 8ms/step - loss: 6.9494 - mae: 6.9494\n",
            "Epoch 393/500\n",
            "2/2 [==============================] - 0s 5ms/step - loss: 14.9471 - mae: 14.9471\n",
            "Epoch 394/500\n",
            "2/2 [==============================] - 0s 7ms/step - loss: 3.7508 - mae: 3.7508\n",
            "Epoch 395/500\n",
            "2/2 [==============================] - 0s 9ms/step - loss: 6.1571 - mae: 6.1571\n",
            "Epoch 396/500\n",
            "2/2 [==============================] - 0s 3ms/step - loss: 8.1579 - mae: 8.1579\n",
            "Epoch 397/500\n",
            "2/2 [==============================] - 0s 8ms/step - loss: 8.6491 - mae: 8.6491\n",
            "Epoch 398/500\n",
            "2/2 [==============================] - 0s 6ms/step - loss: 15.9417 - mae: 15.9417\n",
            "Epoch 399/500\n",
            "2/2 [==============================] - 0s 15ms/step - loss: 10.0171 - mae: 10.0171\n",
            "Epoch 400/500\n",
            "2/2 [==============================] - 0s 9ms/step - loss: 6.4655 - mae: 6.4655\n",
            "Epoch 401/500\n",
            "2/2 [==============================] - 0s 3ms/step - loss: 22.4258 - mae: 22.4258\n",
            "Epoch 402/500\n",
            "2/2 [==============================] - 0s 6ms/step - loss: 17.5414 - mae: 17.5414\n",
            "Epoch 403/500\n",
            "2/2 [==============================] - 0s 22ms/step - loss: 6.7742 - mae: 6.7742\n",
            "Epoch 404/500\n",
            "2/2 [==============================] - 0s 3ms/step - loss: 11.4369 - mae: 11.4369\n",
            "Epoch 405/500\n",
            "2/2 [==============================] - 0s 4ms/step - loss: 8.1707 - mae: 8.1707\n",
            "Epoch 406/500\n",
            "2/2 [==============================] - 0s 4ms/step - loss: 13.6880 - mae: 13.6880\n",
            "Epoch 407/500\n",
            "2/2 [==============================] - 0s 6ms/step - loss: 5.2922 - mae: 5.2922\n",
            "Epoch 408/500\n",
            "2/2 [==============================] - 0s 7ms/step - loss: 27.7187 - mae: 27.7187\n",
            "Epoch 409/500\n",
            "2/2 [==============================] - 0s 10ms/step - loss: 6.4557 - mae: 6.4557\n",
            "Epoch 410/500\n",
            "2/2 [==============================] - 0s 6ms/step - loss: 23.1511 - mae: 23.1511\n",
            "Epoch 411/500\n",
            "2/2 [==============================] - 0s 6ms/step - loss: 11.9402 - mae: 11.9402\n",
            "Epoch 412/500\n",
            "2/2 [==============================] - 0s 7ms/step - loss: 11.3973 - mae: 11.3973\n",
            "Epoch 413/500\n",
            "2/2 [==============================] - 0s 5ms/step - loss: 21.5127 - mae: 21.5127\n",
            "Epoch 414/500\n",
            "2/2 [==============================] - 0s 9ms/step - loss: 14.5225 - mae: 14.5225\n",
            "Epoch 415/500\n",
            "2/2 [==============================] - 0s 9ms/step - loss: 12.0099 - mae: 12.0099\n",
            "Epoch 416/500\n",
            "2/2 [==============================] - 0s 3ms/step - loss: 16.7579 - mae: 16.7579\n",
            "Epoch 417/500\n",
            "2/2 [==============================] - 0s 11ms/step - loss: 22.2290 - mae: 22.2290\n",
            "Epoch 418/500\n",
            "2/2 [==============================] - 0s 8ms/step - loss: 20.7698 - mae: 20.7698\n",
            "Epoch 419/500\n",
            "2/2 [==============================] - 0s 6ms/step - loss: 4.3213 - mae: 4.3213\n",
            "Epoch 420/500\n",
            "2/2 [==============================] - 0s 14ms/step - loss: 22.6100 - mae: 22.6100\n",
            "Epoch 421/500\n",
            "2/2 [==============================] - 0s 7ms/step - loss: 20.5018 - mae: 20.5018\n",
            "Epoch 422/500\n",
            "2/2 [==============================] - 0s 29ms/step - loss: 14.2571 - mae: 14.2571\n",
            "Epoch 423/500\n",
            "2/2 [==============================] - 0s 7ms/step - loss: 11.3714 - mae: 11.3714\n",
            "Epoch 424/500\n",
            "2/2 [==============================] - 0s 11ms/step - loss: 13.2152 - mae: 13.2152\n",
            "Epoch 425/500\n",
            "2/2 [==============================] - 0s 5ms/step - loss: 17.6320 - mae: 17.6320\n",
            "Epoch 426/500\n",
            "2/2 [==============================] - 0s 3ms/step - loss: 12.8596 - mae: 12.8596\n",
            "Epoch 427/500\n",
            "2/2 [==============================] - 0s 6ms/step - loss: 13.0774 - mae: 13.0774\n",
            "Epoch 428/500\n",
            "2/2 [==============================] - 0s 6ms/step - loss: 22.1754 - mae: 22.1754\n",
            "Epoch 429/500\n",
            "2/2 [==============================] - 0s 7ms/step - loss: 19.6504 - mae: 19.6504\n",
            "Epoch 430/500\n",
            "2/2 [==============================] - 0s 4ms/step - loss: 14.2673 - mae: 14.2673\n",
            "Epoch 431/500\n",
            "2/2 [==============================] - 0s 8ms/step - loss: 14.8551 - mae: 14.8551\n",
            "Epoch 432/500\n",
            "2/2 [==============================] - 0s 4ms/step - loss: 18.1979 - mae: 18.1979\n",
            "Epoch 433/500\n",
            "2/2 [==============================] - 0s 14ms/step - loss: 31.6568 - mae: 31.6568\n",
            "Epoch 434/500\n",
            "2/2 [==============================] - 0s 6ms/step - loss: 15.5405 - mae: 15.5405\n",
            "Epoch 435/500\n",
            "2/2 [==============================] - 0s 6ms/step - loss: 14.4743 - mae: 14.4743\n",
            "Epoch 436/500\n",
            "2/2 [==============================] - 0s 7ms/step - loss: 20.5334 - mae: 20.5334\n",
            "Epoch 437/500\n",
            "2/2 [==============================] - 0s 4ms/step - loss: 21.3295 - mae: 21.3295\n",
            "Epoch 438/500\n",
            "2/2 [==============================] - 0s 6ms/step - loss: 6.3181 - mae: 6.3181\n",
            "Epoch 439/500\n",
            "2/2 [==============================] - 0s 4ms/step - loss: 8.9507 - mae: 8.9507\n",
            "Epoch 440/500\n",
            "2/2 [==============================] - 0s 7ms/step - loss: 16.0338 - mae: 16.0338\n",
            "Epoch 441/500\n",
            "2/2 [==============================] - 0s 3ms/step - loss: 8.0172 - mae: 8.0172\n",
            "Epoch 442/500\n",
            "2/2 [==============================] - 0s 4ms/step - loss: 6.5185 - mae: 6.5185\n",
            "Epoch 443/500\n",
            "2/2 [==============================] - 0s 4ms/step - loss: 31.8478 - mae: 31.8478\n",
            "Epoch 444/500\n",
            "2/2 [==============================] - 0s 8ms/step - loss: 14.2742 - mae: 14.2742\n",
            "Epoch 445/500\n",
            "2/2 [==============================] - 0s 5ms/step - loss: 7.3057 - mae: 7.3057\n",
            "Epoch 446/500\n",
            "2/2 [==============================] - 0s 3ms/step - loss: 14.2493 - mae: 14.2493\n",
            "Epoch 447/500\n",
            "2/2 [==============================] - 0s 4ms/step - loss: 9.8893 - mae: 9.8893\n",
            "Epoch 448/500\n",
            "2/2 [==============================] - 0s 5ms/step - loss: 6.0514 - mae: 6.0514\n",
            "Epoch 449/500\n",
            "2/2 [==============================] - 0s 5ms/step - loss: 22.2970 - mae: 22.2970\n",
            "Epoch 450/500\n",
            "2/2 [==============================] - 0s 8ms/step - loss: 9.2172 - mae: 9.2172\n",
            "Epoch 451/500\n",
            "2/2 [==============================] - 0s 8ms/step - loss: 16.0774 - mae: 16.0774\n",
            "Epoch 452/500\n",
            "2/2 [==============================] - 0s 4ms/step - loss: 14.0888 - mae: 14.0888\n",
            "Epoch 453/500\n",
            "2/2 [==============================] - 0s 7ms/step - loss: 25.9166 - mae: 25.9166\n",
            "Epoch 454/500\n",
            "2/2 [==============================] - 0s 5ms/step - loss: 12.0731 - mae: 12.0731\n",
            "Epoch 455/500\n",
            "2/2 [==============================] - 0s 4ms/step - loss: 10.1903 - mae: 10.1903\n",
            "Epoch 456/500\n",
            "2/2 [==============================] - 0s 3ms/step - loss: 7.4784 - mae: 7.4784\n",
            "Epoch 457/500\n",
            "2/2 [==============================] - 0s 8ms/step - loss: 18.1374 - mae: 18.1374\n",
            "Epoch 458/500\n",
            "2/2 [==============================] - 0s 3ms/step - loss: 12.7101 - mae: 12.7101\n",
            "Epoch 459/500\n",
            "2/2 [==============================] - 0s 5ms/step - loss: 18.2610 - mae: 18.2610\n",
            "Epoch 460/500\n",
            "2/2 [==============================] - 0s 4ms/step - loss: 14.8526 - mae: 14.8526\n",
            "Epoch 461/500\n",
            "2/2 [==============================] - 0s 7ms/step - loss: 15.2744 - mae: 15.2744\n",
            "Epoch 462/500\n",
            "2/2 [==============================] - 0s 5ms/step - loss: 13.0759 - mae: 13.0759\n",
            "Epoch 463/500\n",
            "2/2 [==============================] - 0s 4ms/step - loss: 16.3963 - mae: 16.3963\n",
            "Epoch 464/500\n",
            "2/2 [==============================] - 0s 4ms/step - loss: 13.6604 - mae: 13.6604\n",
            "Epoch 465/500\n",
            "2/2 [==============================] - 0s 5ms/step - loss: 28.2202 - mae: 28.2202\n",
            "Epoch 466/500\n",
            "2/2 [==============================] - 0s 6ms/step - loss: 10.3727 - mae: 10.3727\n",
            "Epoch 467/500\n",
            "2/2 [==============================] - 0s 9ms/step - loss: 14.5000 - mae: 14.5000\n",
            "Epoch 468/500\n",
            "2/2 [==============================] - 0s 5ms/step - loss: 10.9241 - mae: 10.9241\n",
            "Epoch 469/500\n",
            "2/2 [==============================] - 0s 7ms/step - loss: 23.9828 - mae: 23.9828\n",
            "Epoch 470/500\n",
            "2/2 [==============================] - 0s 4ms/step - loss: 20.9366 - mae: 20.9366\n",
            "Epoch 471/500\n",
            "2/2 [==============================] - 0s 3ms/step - loss: 11.2161 - mae: 11.2161\n",
            "Epoch 472/500\n",
            "2/2 [==============================] - 0s 4ms/step - loss: 12.3062 - mae: 12.3062\n",
            "Epoch 473/500\n",
            "2/2 [==============================] - 0s 5ms/step - loss: 28.8786 - mae: 28.8786\n",
            "Epoch 474/500\n",
            "2/2 [==============================] - 0s 6ms/step - loss: 5.9943 - mae: 5.9943\n",
            "Epoch 475/500\n",
            "2/2 [==============================] - 0s 6ms/step - loss: 10.5300 - mae: 10.5300\n",
            "Epoch 476/500\n",
            "2/2 [==============================] - 0s 6ms/step - loss: 13.5548 - mae: 13.5548\n",
            "Epoch 477/500\n",
            "2/2 [==============================] - 0s 5ms/step - loss: 26.7258 - mae: 26.7258\n",
            "Epoch 478/500\n",
            "2/2 [==============================] - 0s 6ms/step - loss: 13.9592 - mae: 13.9592\n",
            "Epoch 479/500\n",
            "2/2 [==============================] - 0s 3ms/step - loss: 15.0403 - mae: 15.0403\n",
            "Epoch 480/500\n",
            "2/2 [==============================] - 0s 3ms/step - loss: 27.9370 - mae: 27.9370\n",
            "Epoch 481/500\n",
            "2/2 [==============================] - 0s 5ms/step - loss: 7.2397 - mae: 7.2397\n",
            "Epoch 482/500\n",
            "2/2 [==============================] - 0s 6ms/step - loss: 9.5044 - mae: 9.5044\n",
            "Epoch 483/500\n",
            "2/2 [==============================] - 0s 6ms/step - loss: 10.8612 - mae: 10.8612\n",
            "Epoch 484/500\n",
            "2/2 [==============================] - 0s 81ms/step - loss: 15.0061 - mae: 15.0061\n",
            "Epoch 485/500\n",
            "2/2 [==============================] - 0s 6ms/step - loss: 16.9332 - mae: 16.9332\n",
            "Epoch 486/500\n",
            "2/2 [==============================] - 0s 7ms/step - loss: 14.2982 - mae: 14.2982\n",
            "Epoch 487/500\n",
            "2/2 [==============================] - 0s 7ms/step - loss: 17.8300 - mae: 17.8300\n",
            "Epoch 488/500\n",
            "2/2 [==============================] - 0s 4ms/step - loss: 42.4857 - mae: 42.4857\n",
            "Epoch 489/500\n",
            "2/2 [==============================] - 0s 6ms/step - loss: 21.8112 - mae: 21.8112\n",
            "Epoch 490/500\n",
            "2/2 [==============================] - 0s 8ms/step - loss: 7.6975 - mae: 7.6975\n",
            "Epoch 491/500\n",
            "2/2 [==============================] - 0s 6ms/step - loss: 13.2019 - mae: 13.2019\n",
            "Epoch 492/500\n",
            "2/2 [==============================] - 0s 3ms/step - loss: 25.6103 - mae: 25.6103\n",
            "Epoch 493/500\n",
            "2/2 [==============================] - 0s 5ms/step - loss: 9.4058 - mae: 9.4058\n",
            "Epoch 494/500\n",
            "2/2 [==============================] - 0s 3ms/step - loss: 11.7690 - mae: 11.7690\n",
            "Epoch 495/500\n",
            "2/2 [==============================] - 0s 5ms/step - loss: 18.1562 - mae: 18.1562\n",
            "Epoch 496/500\n",
            "2/2 [==============================] - 0s 4ms/step - loss: 14.8972 - mae: 14.8972\n",
            "Epoch 497/500\n",
            "2/2 [==============================] - 0s 4ms/step - loss: 4.8518 - mae: 4.8518\n",
            "Epoch 498/500\n",
            "2/2 [==============================] - 0s 3ms/step - loss: 39.1761 - mae: 39.1761\n",
            "Epoch 499/500\n",
            "2/2 [==============================] - 0s 3ms/step - loss: 17.3024 - mae: 17.3024\n",
            "Epoch 500/500\n",
            "2/2 [==============================] - 0s 6ms/step - loss: 18.8012 - mae: 18.8012\n"
          ],
          "name": "stdout"
        },
        {
          "output_type": "execute_result",
          "data": {
            "text/plain": [
              "<tensorflow.python.keras.callbacks.History at 0x7faab324ff90>"
            ]
          },
          "metadata": {
            "tags": []
          },
          "execution_count": 55
        }
      ]
    },
    {
      "cell_type": "code",
      "metadata": {
        "colab": {
          "base_uri": "https://localhost:8080/",
          "height": 428
        },
        "id": "-E6yTxohVXCW",
        "outputId": "c3fa67a1-8ea7-46c7-83a6-991a8bebf662"
      },
      "source": [
        "# make and plot predictions on Model_3\n",
        "y_pred_3 = tf_model_3.predict(X_test)\n",
        "plot_predictions(predictions=y_pred_3)\n"
      ],
      "execution_count": null,
      "outputs": [
        {
          "output_type": "display_data",
          "data": {
            "image/png": "[encoded data removed]",
            "text/plain": [
              "<Figure size 720x504 with 1 Axes>"
            ]
          },
          "metadata": {
            "tags": [],
            "needs_background": "light"
          }
        }
      ]
    },
    {
      "cell_type": "code",
      "metadata": {
        "colab": {
          "base_uri": "https://localhost:8080/"
        },
        "id": "a756ArmBVXS6",
        "outputId": "5fc7dbe5-a543-4c1d-918a-bfd7e91247bb"
      },
      "source": [
        "# Model_1 evaluation\n",
        "mae_3 = mae(y_test, y_pred_3)\n",
        "mse_3 = mse(y_test, y_pred_3)\n",
        "\n",
        "mae_3, mse_3"
      ],
      "execution_count": null,
      "outputs": [
        {
          "output_type": "execute_result",
          "data": {
            "text/plain": [
              "(<tf.Tensor: shape=(), dtype=float32, numpy=1.2937088>,\n",
              " <tf.Tensor: shape=(), dtype=float32, numpy=1.8132385>)"
            ]
          },
          "metadata": {
            "tags": []
          },
          "execution_count": 57
        }
      ]
    },
    {
      "cell_type": "code",
      "metadata": {
        "colab": {
          "base_uri": "https://localhost:8080/",
          "height": 143
        },
        "id": "eqeK4hz1FL5a",
        "outputId": "5b4d9b13-7a2e-479a-cdef-126ad9ac4d3b"
      },
      "source": [
        "# Compare the results of the models\n",
        "\n",
        "import pandas as pd\n",
        "\n",
        "model_results = [[\"tf_model_1\", mae_1.numpy(), mse_1.numpy()],\n",
        "                 [\"tf_model_2\", mae_2.numpy(), mse_2.numpy()],\n",
        "                 [\"tf_model_3\", mae_3.numpy(), mse_3.numpy()]]\n",
        "\n",
        "all_results = pd.DataFrame(model_results, columns=[\"models\", \"mae\", \"mse\"])\n",
        "all_results"
      ],
      "execution_count": null,
      "outputs": [
        {
          "output_type": "execute_result",
          "data": {
            "text/html": [
              "<div>\n",
              "<style scoped>\n",
              "    .dataframe tbody tr th:only-of-type {\n",
              "        vertical-align: middle;\n",
              "    }\n",
              "\n",
              "    .dataframe tbody tr th {\n",
              "        vertical-align: top;\n",
              "    }\n",
              "\n",
              "    .dataframe thead th {\n",
              "        text-align: right;\n",
              "    }\n",
              "</style>\n",
              "<table border=\"1\" class=\"dataframe\">\n",
              "  <thead>\n",
              "    <tr style=\"text-align: right;\">\n",
              "      <th></th>\n",
              "      <th>models</th>\n",
              "      <th>mae</th>\n",
              "      <th>mse</th>\n",
              "    </tr>\n",
              "  </thead>\n",
              "  <tbody>\n",
              "    <tr>\n",
              "      <th>0</th>\n",
              "      <td>tf_model_1</td>\n",
              "      <td>6.743742</td>\n",
              "      <td>50.653648</td>\n",
              "    </tr>\n",
              "    <tr>\n",
              "      <th>1</th>\n",
              "      <td>tf_model_2</td>\n",
              "      <td>27.134838</td>\n",
              "      <td>743.840942</td>\n",
              "    </tr>\n",
              "    <tr>\n",
              "      <th>2</th>\n",
              "      <td>tf_model_3</td>\n",
              "      <td>1.293709</td>\n",
              "      <td>1.813239</td>\n",
              "    </tr>\n",
              "  </tbody>\n",
              "</table>\n",
              "</div>"
            ],
            "text/plain": [
              "       models        mae         mse\n",
              "0  tf_model_1   6.743742   50.653648\n",
              "1  tf_model_2  27.134838  743.840942\n",
              "2  tf_model_3   1.293709    1.813239"
            ]
          },
          "metadata": {
            "tags": []
          },
          "execution_count": 59
        }
      ]
    },
    {
      "cell_type": "code",
      "metadata": {
        "colab": {
          "base_uri": "https://localhost:8080/"
        },
        "id": "fqoHnYetFMAr",
        "outputId": "08311535-df46-4796-b52f-87069ee1734f"
      },
      "source": [
        "# from the above we observe model 3 was best\n",
        "\n",
        "tf_model_3.summary()"
      ],
      "execution_count": null,
      "outputs": [
        {
          "output_type": "stream",
          "text": [
            "Model: \"sequential_8\"\n",
            "_________________________________________________________________\n",
            "Layer (type)                 Output Shape              Param #   \n",
            "=================================================================\n",
            "dense_10 (Dense)             (None, 10)                20        \n",
            "_________________________________________________________________\n",
            "dense_11 (Dense)             (None, 1)                 11        \n",
            "=================================================================\n",
            "Total params: 31\n",
            "Trainable params: 31\n",
            "Non-trainable params: 0\n",
            "_________________________________________________________________\n"
          ],
          "name": "stdout"
        }
      ]
    },
    {
      "cell_type": "code",
      "metadata": {
        "colab": {
          "base_uri": "https://localhost:8080/"
        },
        "id": "wybdoW61FMHg",
        "outputId": "f32cd9f1-1bab-4d71-dba4-57c12d788602"
      },
      "source": [
        "# Saving the Model\n",
        "tf_model_3.save(\"best_model_savedmodel_format\")"
      ],
      "execution_count": null,
      "outputs": [
        {
          "output_type": "stream",
          "text": [
            "INFO:tensorflow:Assets written to: best_model_savedmodel_format/assets\n"
          ],
          "name": "stdout"
        }
      ]
    },
    {
      "cell_type": "code",
      "metadata": {
        "id": "wtCYR_VQwUjy"
      },
      "source": [
        "tf_model_3.save(\"best_model_HDF5_format.h5\")"
      ],
      "execution_count": null,
      "outputs": []
    },
    {
      "cell_type": "code",
      "metadata": {
        "colab": {
          "base_uri": "https://localhost:8080/"
        },
        "id": "rl6cTMg3wY20",
        "outputId": "7191e1f9-91e9-42ad-e779-45aee885ee71"
      },
      "source": [
        "# Load and check the saved model\n",
        "\n",
        "# load SavedModel Format\n",
        "load_savedmodel_format = tf.keras.models.load_model(\"/content/best_model_savedmodel_format\")\n",
        "load_savedmodel_format.summary()"
      ],
      "execution_count": null,
      "outputs": [
        {
          "output_type": "stream",
          "text": [
            "Model: \"sequential_8\"\n",
            "_________________________________________________________________\n",
            "Layer (type)                 Output Shape              Param #   \n",
            "=================================================================\n",
            "dense_10 (Dense)             (None, 10)                20        \n",
            "_________________________________________________________________\n",
            "dense_11 (Dense)             (None, 1)                 11        \n",
            "=================================================================\n",
            "Total params: 31\n",
            "Trainable params: 31\n",
            "Non-trainable params: 0\n",
            "_________________________________________________________________\n"
          ],
          "name": "stdout"
        }
      ]
    },
    {
      "cell_type": "code",
      "metadata": {
        "colab": {
          "base_uri": "https://localhost:8080/"
        },
        "id": "T4Sb4Dhhw6qf",
        "outputId": "ac4df7a8-6664-453c-bdb6-00b4fa1aa495"
      },
      "source": [
        "# compare model_3 with SavedModel format predictions\n",
        "\n",
        "tf_model_3_pred = tf_model_3.predict(X_test)\n",
        "load_savedmodel_format_pred = load_savedmodel_format.predict(X_test)\n",
        "tf_model_3_pred == load_savedmodel_format_pred"
      ],
      "execution_count": null,
      "outputs": [
        {
          "output_type": "execute_result",
          "data": {
            "text/plain": [
              "array([[ True],\n",
              "       [ True],\n",
              "       [ True],\n",
              "       [ True],\n",
              "       [ True],\n",
              "       [ True],\n",
              "       [ True],\n",
              "       [ True],\n",
              "       [ True],\n",
              "       [ True]])"
            ]
          },
          "metadata": {
            "tags": []
          },
          "execution_count": 65
        }
      ]
    },
    {
      "cell_type": "code",
      "metadata": {
        "colab": {
          "base_uri": "https://localhost:8080/"
        },
        "id": "xHBTq29_yI71",
        "outputId": "197e0eed-43a1-4306-f831-2d429f6aa75c"
      },
      "source": [
        "# load HDF5 Format\n",
        "load_hdf5_format = tf.keras.models.load_model(\"/content/best_model_HDF5_format.h5\")\n",
        "load_hdf5_format.summary()"
      ],
      "execution_count": null,
      "outputs": [
        {
          "output_type": "stream",
          "text": [
            "Model: \"sequential_8\"\n",
            "_________________________________________________________________\n",
            "Layer (type)                 Output Shape              Param #   \n",
            "=================================================================\n",
            "dense_10 (Dense)             (None, 10)                20        \n",
            "_________________________________________________________________\n",
            "dense_11 (Dense)             (None, 1)                 11        \n",
            "=================================================================\n",
            "Total params: 31\n",
            "Trainable params: 31\n",
            "Non-trainable params: 0\n",
            "_________________________________________________________________\n"
          ],
          "name": "stdout"
        }
      ]
    },
    {
      "cell_type": "code",
      "metadata": {
        "colab": {
          "base_uri": "https://localhost:8080/"
        },
        "id": "vlIyuopTyJQn",
        "outputId": "5dac2a01-9049-48b6-8a55-e8f620440616"
      },
      "source": [
        "# compare model_3 with HDF5 format predictions\n",
        "\n",
        "tf_model_3_pred = tf_model_3.predict(X_test)\n",
        "load_hdf5_format_pred = load_hdf5_format.predict(X_test)\n",
        "tf_model_3_pred == load_savedmodel_format_pred"
      ],
      "execution_count": null,
      "outputs": [
        {
          "output_type": "execute_result",
          "data": {
            "text/plain": [
              "array([[ True],\n",
              "       [ True],\n",
              "       [ True],\n",
              "       [ True],\n",
              "       [ True],\n",
              "       [ True],\n",
              "       [ True],\n",
              "       [ True],\n",
              "       [ True],\n",
              "       [ True]])"
            ]
          },
          "metadata": {
            "tags": []
          },
          "execution_count": 67
        }
      ]
    },
    {
      "cell_type": "code",
      "metadata": {
        "colab": {
          "base_uri": "https://localhost:8080/",
          "height": 17
        },
        "id": "eYZ9EDMLyJcL",
        "outputId": "b29b1836-aae7-46d0-b3b9-d432f15e6a00"
      },
      "source": [
        "# Code to download from colab to local drive\n",
        "\n",
        "from google.colab import files\n",
        "files.download(\"/content/best_model_HDF5_format.h5\")"
      ],
      "execution_count": null,
      "outputs": [
        {
          "output_type": "display_data",
          "data": {
            "application/javascript": [
              "\n",
              "    async function download(id, filename, size) {\n",
              "      if (!google.colab.kernel.accessAllowed) {\n",
              "        return;\n",
              "      }\n",
              "      const div = document.createElement('div');\n",
              "      const label = document.createElement('label');\n",
              "      label.textContent = `Downloading \"${filename}\": `;\n",
              "      div.appendChild(label);\n",
              "      const progress = document.createElement('progress');\n",
              "      progress.max = size;\n",
              "      div.appendChild(progress);\n",
              "      document.body.appendChild(div);\n",
              "\n",
              "      const buffers = [];\n",
              "      let downloaded = 0;\n",
              "\n",
              "      const channel = await google.colab.kernel.comms.open(id);\n",
              "      // Send a message to notify the kernel that we're ready.\n",
              "      channel.send({})\n",
              "\n",
              "      for await (const message of channel.messages) {\n",
              "        // Send a message to notify the kernel that we're ready.\n",
              "        channel.send({})\n",
              "        if (message.buffers) {\n",
              "          for (const buffer of message.buffers) {\n",
              "            buffers.push(buffer);\n",
              "            downloaded += buffer.byteLength;\n",
              "            progress.value = downloaded;\n",
              "          }\n",
              "        }\n",
              "      }\n",
              "      const blob = new Blob(buffers, {type: 'application/binary'});\n",
              "      const a = document.createElement('a');\n",
              "      a.href = window.URL.createObjectURL(blob);\n",
              "      a.download = filename;\n",
              "      div.appendChild(a);\n",
              "      a.click();\n",
              "      div.remove();\n",
              "    }\n",
              "  "
            ],
            "text/plain": [
              "<IPython.core.display.Javascript object>"
            ]
          },
          "metadata": {
            "tags": []
          }
        },
        {
          "output_type": "display_data",
          "data": {
            "application/javascript": [
              "download(\"download_c5a09cab-9beb-4fa6-b5cd-2223756f0f74\", \"best_model_HDF5_format.h5\", 17040)"
            ],
            "text/plain": [
              "<IPython.core.display.Javascript object>"
            ]
          },
          "metadata": {
            "tags": []
          }
        }
      ]
    },
    {
      "cell_type": "code",
      "metadata": {
        "id": "HGEYTUyXyJsH"
      },
      "source": [
        "# Save the model from colab to google drive\n",
        "!cp /content/best_model_HDF5_format.h5 /content/drive/MyDrive/TensorFlow"
      ],
      "execution_count": null,
      "outputs": []
    },
    {
      "cell_type": "code",
      "metadata": {
        "colab": {
          "base_uri": "https://localhost:8080/"
        },
        "id": "8QGLe_wYyKAU",
        "outputId": "7ab6f8f1-8788-4c09-b2af-94bb057bff28"
      },
      "source": [
        "!ls /content/drive/MyDrive/TensorFlow"
      ],
      "execution_count": null,
      "outputs": [
        {
          "output_type": "stream",
          "text": [
            "best_model_HDF5_format.h5\n"
          ],
          "name": "stdout"
        }
      ]
    },
    {
      "cell_type": "code",
      "metadata": {
        "id": "O12b2TU3yKOr"
      },
      "source": [
        ""
      ],
      "execution_count": null,
      "outputs": []
    },
    {
      "cell_type": "code",
      "metadata": {
        "id": "cS1TJtlFwZNG"
      },
      "source": [
        ""
      ],
      "execution_count": null,
      "outputs": []
    }
  ]
}